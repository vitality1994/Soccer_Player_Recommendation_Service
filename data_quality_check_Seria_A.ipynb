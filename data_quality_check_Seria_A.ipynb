{
 "cells": [
  {
   "cell_type": "markdown",
   "metadata": {},
   "source": [
    "### Import packages"
   ]
  },
  {
   "cell_type": "code",
   "execution_count": 24,
   "metadata": {},
   "outputs": [],
   "source": [
    "import pandas as pd\n",
    "import matplotlib.pyplot as plt\n",
    "from datetime import datetime\n",
    "import os\n",
    "import math"
   ]
  },
  {
   "cell_type": "markdown",
   "metadata": {},
   "source": [
    "### Load data"
   ]
  },
  {
   "cell_type": "code",
   "execution_count": 25,
   "metadata": {},
   "outputs": [],
   "source": [
    "path = '/Users/jooyong/github_locals/Soccer_Player_Recommendation_Service/data/match_details(from_Transfermarket)/Seria_A_match_details/'\n",
    "file_list = os.listdir(path)\n",
    "\n",
    "Seria_A_matches = pd.DataFrame()\n",
    "for file in file_list:\n",
    "\n",
    "    filepath = path + file\n",
    "    Seria_A_matches = pd.concat([Seria_A_matches, pd.read_json(filepath, lines=True)], axis=0)"
   ]
  },
  {
   "cell_type": "code",
   "execution_count": 26,
   "metadata": {},
   "outputs": [
    {
     "data": {
      "text/html": [
       "<div>\n",
       "<style scoped>\n",
       "    .dataframe tbody tr th:only-of-type {\n",
       "        vertical-align: middle;\n",
       "    }\n",
       "\n",
       "    .dataframe tbody tr th {\n",
       "        vertical-align: top;\n",
       "    }\n",
       "\n",
       "    .dataframe thead th {\n",
       "        text-align: right;\n",
       "    }\n",
       "</style>\n",
       "<table border=\"1\" class=\"dataframe\">\n",
       "  <thead>\n",
       "    <tr style=\"text-align: right;\">\n",
       "      <th></th>\n",
       "      <th>match_general_info</th>\n",
       "      <th>team_details</th>\n",
       "      <th>event_details</th>\n",
       "    </tr>\n",
       "  </thead>\n",
       "  <tbody>\n",
       "    <tr>\n",
       "      <th>0</th>\n",
       "      <td>{'day': 'Fri', 'date': '2/9/18', 'starttime': ...</td>\n",
       "      <td>{'home': {'name': 'ACF Fiorentina', 'rank': '1...</td>\n",
       "      <td>{'home': {'card': [{'name': 'Gil Dias', 'card_...</td>\n",
       "    </tr>\n",
       "    <tr>\n",
       "      <th>1</th>\n",
       "      <td>{'day': 'Sat', 'date': '2/10/18', 'starttime':...</td>\n",
       "      <td>{'home': {'name': 'SPAL 2013', 'rank': '18', '...</td>\n",
       "      <td>{'home': {'card': [{'name': 'Lorenco Simic', '...</td>\n",
       "    </tr>\n",
       "    <tr>\n",
       "      <th>2</th>\n",
       "      <td>{'day': 'Sat', 'date': '2/10/18', 'starttime':...</td>\n",
       "      <td>{'home': {'name': 'FC Crotone', 'rank': '17', ...</td>\n",
       "      <td>{'home': {'goal': [{'scorer': 'Rolando Mandrag...</td>\n",
       "    </tr>\n",
       "    <tr>\n",
       "      <th>3</th>\n",
       "      <td>{'day': 'Sat', 'date': '2/10/18', 'starttime':...</td>\n",
       "      <td>{'home': {'name': 'SSC Napoli', 'rank': '1', '...</td>\n",
       "      <td>{'home': {'goal': [{'scorer': 'José Callejón',...</td>\n",
       "    </tr>\n",
       "    <tr>\n",
       "      <th>4</th>\n",
       "      <td>{'day': 'Sun', 'date': '2/11/18', 'starttime':...</td>\n",
       "      <td>{'home': {'name': 'US Sassuolo', 'rank': '15',...</td>\n",
       "      <td>{'home': {'sub': [{'subs_in': 'Alessandro Matr...</td>\n",
       "    </tr>\n",
       "  </tbody>\n",
       "</table>\n",
       "</div>"
      ],
      "text/plain": [
       "                                  match_general_info  \\\n",
       "0  {'day': 'Fri', 'date': '2/9/18', 'starttime': ...   \n",
       "1  {'day': 'Sat', 'date': '2/10/18', 'starttime':...   \n",
       "2  {'day': 'Sat', 'date': '2/10/18', 'starttime':...   \n",
       "3  {'day': 'Sat', 'date': '2/10/18', 'starttime':...   \n",
       "4  {'day': 'Sun', 'date': '2/11/18', 'starttime':...   \n",
       "\n",
       "                                        team_details  \\\n",
       "0  {'home': {'name': 'ACF Fiorentina', 'rank': '1...   \n",
       "1  {'home': {'name': 'SPAL 2013', 'rank': '18', '...   \n",
       "2  {'home': {'name': 'FC Crotone', 'rank': '17', ...   \n",
       "3  {'home': {'name': 'SSC Napoli', 'rank': '1', '...   \n",
       "4  {'home': {'name': 'US Sassuolo', 'rank': '15',...   \n",
       "\n",
       "                                       event_details  \n",
       "0  {'home': {'card': [{'name': 'Gil Dias', 'card_...  \n",
       "1  {'home': {'card': [{'name': 'Lorenco Simic', '...  \n",
       "2  {'home': {'goal': [{'scorer': 'Rolando Mandrag...  \n",
       "3  {'home': {'goal': [{'scorer': 'José Callejón',...  \n",
       "4  {'home': {'sub': [{'subs_in': 'Alessandro Matr...  "
      ]
     },
     "execution_count": 26,
     "metadata": {},
     "output_type": "execute_result"
    }
   ],
   "source": [
    "Seria_A_matches.head(5)"
   ]
  },
  {
   "cell_type": "code",
   "execution_count": 27,
   "metadata": {},
   "outputs": [
    {
     "name": "stdout",
     "output_type": "stream",
     "text": [
      "number of matches from season 2010-2011 to the date the data scraped: 4980\n"
     ]
    }
   ],
   "source": [
    "print('number of matches from season 2010-2011 to the date the data scraped:', len(Seria_A_matches))"
   ]
  },
  {
   "cell_type": "markdown",
   "metadata": {},
   "source": [
    "### Match general information analysis\n",
    "#### 1. Observe initial form"
   ]
  },
  {
   "cell_type": "code",
   "execution_count": 28,
   "metadata": {},
   "outputs": [],
   "source": [
    "match_general_info = pd.DataFrame(Seria_A_matches['match_general_info'].to_list())"
   ]
  },
  {
   "cell_type": "code",
   "execution_count": 29,
   "metadata": {},
   "outputs": [
    {
     "data": {
      "text/html": [
       "<div>\n",
       "<style scoped>\n",
       "    .dataframe tbody tr th:only-of-type {\n",
       "        vertical-align: middle;\n",
       "    }\n",
       "\n",
       "    .dataframe tbody tr th {\n",
       "        vertical-align: top;\n",
       "    }\n",
       "\n",
       "    .dataframe thead th {\n",
       "        text-align: right;\n",
       "    }\n",
       "</style>\n",
       "<table border=\"1\" class=\"dataframe\">\n",
       "  <thead>\n",
       "    <tr style=\"text-align: right;\">\n",
       "      <th></th>\n",
       "      <th>day</th>\n",
       "      <th>date</th>\n",
       "      <th>starttime</th>\n",
       "      <th>stadium</th>\n",
       "      <th>attendance</th>\n",
       "      <th>referee</th>\n",
       "      <th>score</th>\n",
       "    </tr>\n",
       "  </thead>\n",
       "  <tbody>\n",
       "    <tr>\n",
       "      <th>0</th>\n",
       "      <td>Fri</td>\n",
       "      <td>2/9/18</td>\n",
       "      <td>8:45 PM</td>\n",
       "      <td>Artemio Franchi</td>\n",
       "      <td>32.563</td>\n",
       "      <td>Marco Guida</td>\n",
       "      <td>0:2</td>\n",
       "    </tr>\n",
       "    <tr>\n",
       "      <th>1</th>\n",
       "      <td>Sat</td>\n",
       "      <td>2/10/18</td>\n",
       "      <td>3:00 PM</td>\n",
       "      <td>Paolo Mazza</td>\n",
       "      <td>13.100</td>\n",
       "      <td>Maurizio Mariani</td>\n",
       "      <td>0:4</td>\n",
       "    </tr>\n",
       "    <tr>\n",
       "      <th>2</th>\n",
       "      <td>Sat</td>\n",
       "      <td>2/10/18</td>\n",
       "      <td>6:00 PM</td>\n",
       "      <td>Ezio Scida</td>\n",
       "      <td>8.795</td>\n",
       "      <td>Davide Massa</td>\n",
       "      <td>1:1</td>\n",
       "    </tr>\n",
       "    <tr>\n",
       "      <th>3</th>\n",
       "      <td>Sat</td>\n",
       "      <td>2/10/18</td>\n",
       "      <td>8:45 PM</td>\n",
       "      <td>Stadio Diego Armando Maradona</td>\n",
       "      <td>32.940</td>\n",
       "      <td>Luca Banti</td>\n",
       "      <td>4:1</td>\n",
       "    </tr>\n",
       "    <tr>\n",
       "      <th>4</th>\n",
       "      <td>Sun</td>\n",
       "      <td>2/11/18</td>\n",
       "      <td>12:30 PM</td>\n",
       "      <td>Mapei Stadium - Città del Tricolore</td>\n",
       "      <td>8.319</td>\n",
       "      <td>Paolo Silvio Mazzoleni</td>\n",
       "      <td>0:0</td>\n",
       "    </tr>\n",
       "  </tbody>\n",
       "</table>\n",
       "</div>"
      ],
      "text/plain": [
       "   day     date starttime                              stadium attendance  \\\n",
       "0  Fri   2/9/18   8:45 PM                      Artemio Franchi     32.563   \n",
       "1  Sat  2/10/18   3:00 PM                          Paolo Mazza     13.100   \n",
       "2  Sat  2/10/18   6:00 PM                           Ezio Scida      8.795   \n",
       "3  Sat  2/10/18   8:45 PM        Stadio Diego Armando Maradona     32.940   \n",
       "4  Sun  2/11/18  12:30 PM  Mapei Stadium - Città del Tricolore      8.319   \n",
       "\n",
       "                  referee score  \n",
       "0             Marco Guida   0:2  \n",
       "1        Maurizio Mariani   0:4  \n",
       "2            Davide Massa   1:1  \n",
       "3              Luca Banti   4:1  \n",
       "4  Paolo Silvio Mazzoleni   0:0  "
      ]
     },
     "execution_count": 29,
     "metadata": {},
     "output_type": "execute_result"
    }
   ],
   "source": [
    "match_general_info.head(5)"
   ]
  },
  {
   "cell_type": "code",
   "execution_count": 30,
   "metadata": {},
   "outputs": [
    {
     "name": "stdout",
     "output_type": "stream",
     "text": [
      "day 0\n",
      "date 0\n",
      "starttime 0\n",
      "stadium 0\n",
      "attendance 499\n",
      "referee 0\n",
      "score 0\n"
     ]
    }
   ],
   "source": [
    "for column in match_general_info.columns:\n",
    "\n",
    "    print(column, match_general_info[column].isnull().sum())\n"
   ]
  },
  {
   "cell_type": "markdown",
   "metadata": {},
   "source": [
    "Attendance data need to be observed after converting string type date to datetype date to check why there are many null values."
   ]
  },
  {
   "cell_type": "markdown",
   "metadata": {},
   "source": [
    "#### 2. Data pre-processing"
   ]
  },
  {
   "cell_type": "code",
   "execution_count": 31,
   "metadata": {},
   "outputs": [],
   "source": [
    "def home_score(row):\n",
    "    try:\n",
    "        temp = row.split(':')\n",
    "        home = int(temp[0])\n",
    "    except:\n",
    "        home = row\n",
    "    return home\n",
    "def away_score(row):\n",
    "    try:\n",
    "        temp = row.split(':')\n",
    "        away = int(temp[1])\n",
    "    except:\n",
    "        away = row\n",
    "    return away\n",
    "\n",
    "match_general_info['home_score'] = match_general_info['score'].apply(lambda x: home_score(x))\n",
    "match_general_info['away_score'] = match_general_info['score'].apply(lambda x: away_score(x))\n",
    "\n",
    "match_general_info['date'] = pd.to_datetime(match_general_info['date'])\n",
    "match_general_info['starttime'] = pd.to_datetime(match_general_info['starttime']).apply(lambda x: datetime.time(x))"
   ]
  },
  {
   "cell_type": "code",
   "execution_count": 32,
   "metadata": {},
   "outputs": [
    {
     "data": {
      "text/html": [
       "<div>\n",
       "<style scoped>\n",
       "    .dataframe tbody tr th:only-of-type {\n",
       "        vertical-align: middle;\n",
       "    }\n",
       "\n",
       "    .dataframe tbody tr th {\n",
       "        vertical-align: top;\n",
       "    }\n",
       "\n",
       "    .dataframe thead th {\n",
       "        text-align: right;\n",
       "    }\n",
       "</style>\n",
       "<table border=\"1\" class=\"dataframe\">\n",
       "  <thead>\n",
       "    <tr style=\"text-align: right;\">\n",
       "      <th></th>\n",
       "      <th>day</th>\n",
       "      <th>date</th>\n",
       "      <th>starttime</th>\n",
       "      <th>stadium</th>\n",
       "      <th>attendance</th>\n",
       "      <th>referee</th>\n",
       "      <th>score</th>\n",
       "      <th>home_score</th>\n",
       "      <th>away_score</th>\n",
       "    </tr>\n",
       "  </thead>\n",
       "  <tbody>\n",
       "    <tr>\n",
       "      <th>0</th>\n",
       "      <td>Fri</td>\n",
       "      <td>2018-02-09</td>\n",
       "      <td>20:45:00</td>\n",
       "      <td>Artemio Franchi</td>\n",
       "      <td>32.563</td>\n",
       "      <td>Marco Guida</td>\n",
       "      <td>0:2</td>\n",
       "      <td>0</td>\n",
       "      <td>2</td>\n",
       "    </tr>\n",
       "    <tr>\n",
       "      <th>1</th>\n",
       "      <td>Sat</td>\n",
       "      <td>2018-02-10</td>\n",
       "      <td>15:00:00</td>\n",
       "      <td>Paolo Mazza</td>\n",
       "      <td>13.100</td>\n",
       "      <td>Maurizio Mariani</td>\n",
       "      <td>0:4</td>\n",
       "      <td>0</td>\n",
       "      <td>4</td>\n",
       "    </tr>\n",
       "    <tr>\n",
       "      <th>2</th>\n",
       "      <td>Sat</td>\n",
       "      <td>2018-02-10</td>\n",
       "      <td>18:00:00</td>\n",
       "      <td>Ezio Scida</td>\n",
       "      <td>8.795</td>\n",
       "      <td>Davide Massa</td>\n",
       "      <td>1:1</td>\n",
       "      <td>1</td>\n",
       "      <td>1</td>\n",
       "    </tr>\n",
       "    <tr>\n",
       "      <th>3</th>\n",
       "      <td>Sat</td>\n",
       "      <td>2018-02-10</td>\n",
       "      <td>20:45:00</td>\n",
       "      <td>Stadio Diego Armando Maradona</td>\n",
       "      <td>32.940</td>\n",
       "      <td>Luca Banti</td>\n",
       "      <td>4:1</td>\n",
       "      <td>4</td>\n",
       "      <td>1</td>\n",
       "    </tr>\n",
       "    <tr>\n",
       "      <th>4</th>\n",
       "      <td>Sun</td>\n",
       "      <td>2018-02-11</td>\n",
       "      <td>12:30:00</td>\n",
       "      <td>Mapei Stadium - Città del Tricolore</td>\n",
       "      <td>8.319</td>\n",
       "      <td>Paolo Silvio Mazzoleni</td>\n",
       "      <td>0:0</td>\n",
       "      <td>0</td>\n",
       "      <td>0</td>\n",
       "    </tr>\n",
       "  </tbody>\n",
       "</table>\n",
       "</div>"
      ],
      "text/plain": [
       "   day       date starttime                              stadium attendance  \\\n",
       "0  Fri 2018-02-09  20:45:00                      Artemio Franchi     32.563   \n",
       "1  Sat 2018-02-10  15:00:00                          Paolo Mazza     13.100   \n",
       "2  Sat 2018-02-10  18:00:00                           Ezio Scida      8.795   \n",
       "3  Sat 2018-02-10  20:45:00        Stadio Diego Armando Maradona     32.940   \n",
       "4  Sun 2018-02-11  12:30:00  Mapei Stadium - Città del Tricolore      8.319   \n",
       "\n",
       "                  referee score  home_score  away_score  \n",
       "0             Marco Guida   0:2           0           2  \n",
       "1        Maurizio Mariani   0:4           0           4  \n",
       "2            Davide Massa   1:1           1           1  \n",
       "3              Luca Banti   4:1           4           1  \n",
       "4  Paolo Silvio Mazzoleni   0:0           0           0  "
      ]
     },
     "execution_count": 32,
     "metadata": {},
     "output_type": "execute_result"
    }
   ],
   "source": [
    "match_general_info.head(5)"
   ]
  },
  {
   "cell_type": "code",
   "execution_count": 33,
   "metadata": {},
   "outputs": [
    {
     "data": {
      "text/html": [
       "<div>\n",
       "<style scoped>\n",
       "    .dataframe tbody tr th:only-of-type {\n",
       "        vertical-align: middle;\n",
       "    }\n",
       "\n",
       "    .dataframe tbody tr th {\n",
       "        vertical-align: top;\n",
       "    }\n",
       "\n",
       "    .dataframe thead th {\n",
       "        text-align: right;\n",
       "    }\n",
       "</style>\n",
       "<table border=\"1\" class=\"dataframe\">\n",
       "  <thead>\n",
       "    <tr style=\"text-align: right;\">\n",
       "      <th></th>\n",
       "      <th>day</th>\n",
       "      <th>date</th>\n",
       "      <th>starttime</th>\n",
       "      <th>stadium</th>\n",
       "      <th>attendance</th>\n",
       "      <th>referee</th>\n",
       "      <th>score</th>\n",
       "      <th>home_score</th>\n",
       "      <th>away_score</th>\n",
       "    </tr>\n",
       "  </thead>\n",
       "  <tbody>\n",
       "    <tr>\n",
       "      <th>165</th>\n",
       "      <td>Sun</td>\n",
       "      <td>2018-08-26</td>\n",
       "      <td>20:30:00</td>\n",
       "      <td>Stadio Olimpico Grande Torino</td>\n",
       "      <td>None</td>\n",
       "      <td>Gianluca Manganiello</td>\n",
       "      <td>0:0</td>\n",
       "      <td>0</td>\n",
       "      <td>0</td>\n",
       "    </tr>\n",
       "    <tr>\n",
       "      <th>342</th>\n",
       "      <td>Sat</td>\n",
       "      <td>2019-01-19</td>\n",
       "      <td>20:30:00</td>\n",
       "      <td>Giuseppe Meazza</td>\n",
       "      <td>None</td>\n",
       "      <td>Luca Pairetto</td>\n",
       "      <td>0:0</td>\n",
       "      <td>0</td>\n",
       "      <td>0</td>\n",
       "    </tr>\n",
       "    <tr>\n",
       "      <th>776</th>\n",
       "      <td>Sat</td>\n",
       "      <td>2020-06-20</td>\n",
       "      <td>19:30:00</td>\n",
       "      <td>Stadio Olimpico Grande Torino</td>\n",
       "      <td>None</td>\n",
       "      <td>Massimiliano Irrati</td>\n",
       "      <td>1:1</td>\n",
       "      <td>1</td>\n",
       "      <td>1</td>\n",
       "    </tr>\n",
       "    <tr>\n",
       "      <th>777</th>\n",
       "      <td>Sat</td>\n",
       "      <td>2020-06-20</td>\n",
       "      <td>21:45:00</td>\n",
       "      <td>Marcantonio Bentegodi</td>\n",
       "      <td>None</td>\n",
       "      <td>Gianluca Manganiello</td>\n",
       "      <td>2:1</td>\n",
       "      <td>2</td>\n",
       "      <td>1</td>\n",
       "    </tr>\n",
       "    <tr>\n",
       "      <th>778</th>\n",
       "      <td>Sun</td>\n",
       "      <td>2020-06-21</td>\n",
       "      <td>19:30:00</td>\n",
       "      <td>Gewiss Stadium</td>\n",
       "      <td>None</td>\n",
       "      <td>Daniele Chiffi</td>\n",
       "      <td>4:1</td>\n",
       "      <td>4</td>\n",
       "      <td>1</td>\n",
       "    </tr>\n",
       "    <tr>\n",
       "      <th>...</th>\n",
       "      <td>...</td>\n",
       "      <td>...</td>\n",
       "      <td>...</td>\n",
       "      <td>...</td>\n",
       "      <td>...</td>\n",
       "      <td>...</td>\n",
       "      <td>...</td>\n",
       "      <td>...</td>\n",
       "      <td>...</td>\n",
       "    </tr>\n",
       "    <tr>\n",
       "      <th>1289</th>\n",
       "      <td>Sun</td>\n",
       "      <td>2021-05-23</td>\n",
       "      <td>20:45:00</td>\n",
       "      <td>Stadio Diego Armando Maradona</td>\n",
       "      <td>None</td>\n",
       "      <td>Daniele Chiffi</td>\n",
       "      <td>1:1</td>\n",
       "      <td>1</td>\n",
       "      <td>1</td>\n",
       "    </tr>\n",
       "    <tr>\n",
       "      <th>2085</th>\n",
       "      <td>Sun</td>\n",
       "      <td>2012-09-23</td>\n",
       "      <td>15:00:00</td>\n",
       "      <td>Stadio Is Arenas</td>\n",
       "      <td>None</td>\n",
       "      <td>Antonio Giannoccaro</td>\n",
       "      <td>0:3</td>\n",
       "      <td>0</td>\n",
       "      <td>3</td>\n",
       "    </tr>\n",
       "    <tr>\n",
       "      <th>4920</th>\n",
       "      <td>Wed</td>\n",
       "      <td>2012-05-02</td>\n",
       "      <td>20:45:00</td>\n",
       "      <td>Mario Rigamonti</td>\n",
       "      <td>None</td>\n",
       "      <td>Paolo Silvio Mazzoleni</td>\n",
       "      <td>2:1</td>\n",
       "      <td>2</td>\n",
       "      <td>1</td>\n",
       "    </tr>\n",
       "    <tr>\n",
       "      <th>4942</th>\n",
       "      <td>Sun</td>\n",
       "      <td>2012-05-13</td>\n",
       "      <td>20:45:00</td>\n",
       "      <td>Luigi Ferraris</td>\n",
       "      <td>None</td>\n",
       "      <td>Paolo Valeri</td>\n",
       "      <td>2:0</td>\n",
       "      <td>2</td>\n",
       "      <td>0</td>\n",
       "    </tr>\n",
       "    <tr>\n",
       "      <th>4958</th>\n",
       "      <td>Sun</td>\n",
       "      <td>2012-09-02</td>\n",
       "      <td>20:45:00</td>\n",
       "      <td>Sant'Elia</td>\n",
       "      <td>None</td>\n",
       "      <td>Sebastiano Peruzzo</td>\n",
       "      <td>1:1</td>\n",
       "      <td>1</td>\n",
       "      <td>1</td>\n",
       "    </tr>\n",
       "  </tbody>\n",
       "</table>\n",
       "<p>499 rows × 9 columns</p>\n",
       "</div>"
      ],
      "text/plain": [
       "      day       date starttime                        stadium attendance  \\\n",
       "165   Sun 2018-08-26  20:30:00  Stadio Olimpico Grande Torino       None   \n",
       "342   Sat 2019-01-19  20:30:00                Giuseppe Meazza       None   \n",
       "776   Sat 2020-06-20  19:30:00  Stadio Olimpico Grande Torino       None   \n",
       "777   Sat 2020-06-20  21:45:00          Marcantonio Bentegodi       None   \n",
       "778   Sun 2020-06-21  19:30:00                 Gewiss Stadium       None   \n",
       "...   ...        ...       ...                            ...        ...   \n",
       "1289  Sun 2021-05-23  20:45:00  Stadio Diego Armando Maradona       None   \n",
       "2085  Sun 2012-09-23  15:00:00               Stadio Is Arenas       None   \n",
       "4920  Wed 2012-05-02  20:45:00                Mario Rigamonti       None   \n",
       "4942  Sun 2012-05-13  20:45:00                 Luigi Ferraris       None   \n",
       "4958  Sun 2012-09-02  20:45:00                      Sant'Elia       None   \n",
       "\n",
       "                     referee score  home_score  away_score  \n",
       "165     Gianluca Manganiello   0:0           0           0  \n",
       "342            Luca Pairetto   0:0           0           0  \n",
       "776      Massimiliano Irrati   1:1           1           1  \n",
       "777     Gianluca Manganiello   2:1           2           1  \n",
       "778           Daniele Chiffi   4:1           4           1  \n",
       "...                      ...   ...         ...         ...  \n",
       "1289          Daniele Chiffi   1:1           1           1  \n",
       "2085     Antonio Giannoccaro   0:3           0           3  \n",
       "4920  Paolo Silvio Mazzoleni   2:1           2           1  \n",
       "4942            Paolo Valeri   2:0           2           0  \n",
       "4958      Sebastiano Peruzzo   1:1           1           1  \n",
       "\n",
       "[499 rows x 9 columns]"
      ]
     },
     "execution_count": 33,
     "metadata": {},
     "output_type": "execute_result"
    }
   ],
   "source": [
    "# cases having null value for attendance\n",
    "match_general_info[match_general_info['attendance'].isnull()]"
   ]
  },
  {
   "cell_type": "code",
   "execution_count": 34,
   "metadata": {},
   "outputs": [
    {
     "data": {
      "image/png": "[encoded data removed]",
      "text/plain": [
       "<Figure size 640x480 with 1 Axes>"
      ]
     },
     "metadata": {},
     "output_type": "display_data"
    }
   ],
   "source": [
    "plt.hist(match_general_info[match_general_info['attendance'].isnull()]['date'])\n",
    "plt.xticks(rotation = 45)\n",
    "plt.show()"
   ]
  },
  {
   "cell_type": "markdown",
   "metadata": {},
   "source": [
    "Most of null cases for the attendance locate season 2020-2021, and it could be because of the pendemic. <br>\n",
    "There were many games with no attendance during the pendamic, so 0 will replace null values for attendance. <br>\n",
    "For other cases, average number of attendance for the stadium will replace null values.\n",
    "\n",
    "Null value attendance of matches bewtween 05.01.2020 and 07.01.2021 will be replaced with 0."
   ]
  },
  {
   "cell_type": "code",
   "execution_count": 35,
   "metadata": {},
   "outputs": [
    {
     "data": {
      "text/html": [
       "<div>\n",
       "<style scoped>\n",
       "    .dataframe tbody tr th:only-of-type {\n",
       "        vertical-align: middle;\n",
       "    }\n",
       "\n",
       "    .dataframe tbody tr th {\n",
       "        vertical-align: top;\n",
       "    }\n",
       "\n",
       "    .dataframe thead th {\n",
       "        text-align: right;\n",
       "    }\n",
       "</style>\n",
       "<table border=\"1\" class=\"dataframe\">\n",
       "  <thead>\n",
       "    <tr style=\"text-align: right;\">\n",
       "      <th></th>\n",
       "      <th>date</th>\n",
       "      <th>stadium</th>\n",
       "    </tr>\n",
       "  </thead>\n",
       "  <tbody>\n",
       "    <tr>\n",
       "      <th>165</th>\n",
       "      <td>2018-08-26</td>\n",
       "      <td>Stadio Olimpico Grande Torino</td>\n",
       "    </tr>\n",
       "    <tr>\n",
       "      <th>342</th>\n",
       "      <td>2019-01-19</td>\n",
       "      <td>Giuseppe Meazza</td>\n",
       "    </tr>\n",
       "    <tr>\n",
       "      <th>784</th>\n",
       "      <td>2020-03-08</td>\n",
       "      <td>Ennio Tardini</td>\n",
       "    </tr>\n",
       "    <tr>\n",
       "      <th>785</th>\n",
       "      <td>2020-03-08</td>\n",
       "      <td>Giuseppe Meazza</td>\n",
       "    </tr>\n",
       "    <tr>\n",
       "      <th>786</th>\n",
       "      <td>2020-03-08</td>\n",
       "      <td>Luigi Ferraris</td>\n",
       "    </tr>\n",
       "    <tr>\n",
       "      <th>787</th>\n",
       "      <td>2020-03-08</td>\n",
       "      <td>Dacia Arena</td>\n",
       "    </tr>\n",
       "    <tr>\n",
       "      <th>788</th>\n",
       "      <td>2020-03-08</td>\n",
       "      <td>Allianz Stadium</td>\n",
       "    </tr>\n",
       "    <tr>\n",
       "      <th>789</th>\n",
       "      <td>2020-03-09</td>\n",
       "      <td>Mapei Stadium - Città del Tricolore</td>\n",
       "    </tr>\n",
       "    <tr>\n",
       "      <th>2085</th>\n",
       "      <td>2012-09-23</td>\n",
       "      <td>Stadio Is Arenas</td>\n",
       "    </tr>\n",
       "    <tr>\n",
       "      <th>4920</th>\n",
       "      <td>2012-05-02</td>\n",
       "      <td>Mario Rigamonti</td>\n",
       "    </tr>\n",
       "    <tr>\n",
       "      <th>4942</th>\n",
       "      <td>2012-05-13</td>\n",
       "      <td>Luigi Ferraris</td>\n",
       "    </tr>\n",
       "    <tr>\n",
       "      <th>4958</th>\n",
       "      <td>2012-09-02</td>\n",
       "      <td>Sant'Elia</td>\n",
       "    </tr>\n",
       "  </tbody>\n",
       "</table>\n",
       "</div>"
      ],
      "text/plain": [
       "           date                              stadium\n",
       "165  2018-08-26        Stadio Olimpico Grande Torino\n",
       "342  2019-01-19                      Giuseppe Meazza\n",
       "784  2020-03-08                        Ennio Tardini\n",
       "785  2020-03-08                      Giuseppe Meazza\n",
       "786  2020-03-08                       Luigi Ferraris\n",
       "787  2020-03-08                          Dacia Arena\n",
       "788  2020-03-08                      Allianz Stadium\n",
       "789  2020-03-09  Mapei Stadium - Città del Tricolore\n",
       "2085 2012-09-23                     Stadio Is Arenas\n",
       "4920 2012-05-02                      Mario Rigamonti\n",
       "4942 2012-05-13                       Luigi Ferraris\n",
       "4958 2012-09-02                            Sant'Elia"
      ]
     },
     "execution_count": 35,
     "metadata": {},
     "output_type": "execute_result"
    }
   ],
   "source": [
    "match_general_info.loc[(match_general_info['date']<='2021-07-01') & (match_general_info['date']>='2020-05-01'), 'attendance'] = \\\n",
    "    match_general_info[(match_general_info['date']<='2021-07-01') & (match_general_info['date']>='2020-05-01')]['attendance'].fillna('0')\n",
    "match_general_info[match_general_info['attendance'].isnull()][['date', 'stadium']]"
   ]
  },
  {
   "cell_type": "code",
   "execution_count": 36,
   "metadata": {},
   "outputs": [],
   "source": [
    "# save indices for missing attendance samples to later check\n",
    "attendance_missing_index = match_general_info[match_general_info['attendance'].isnull()].index\n",
    "\n",
    "for stadium in set(match_general_info[match_general_info['attendance'].isnull()]['stadium']):\n",
    "\n",
    "    average = pd.to_numeric(match_general_info[match_general_info['stadium']==stadium]['attendance'].dropna().apply(lambda x: x.replace('.', ''))).mean()\n",
    "    if math.isnan(average)!=True:\n",
    "        match_general_info.loc[match_general_info['stadium']==stadium,'attendance'] = match_general_info[match_general_info['stadium']==stadium]['attendance'].fillna(str(round(average)))\n",
    "    \n",
    "    else:\n",
    "        print('cannot find an average, missing value filled out manually:', stadium)\n",
    "\n",
    "match_general_info['attendance'] = pd.to_numeric(match_general_info['attendance'].apply(lambda x: x.replace('.', ''))).apply(lambda x: round(x))"
   ]
  },
  {
   "cell_type": "code",
   "execution_count": 37,
   "metadata": {},
   "outputs": [
    {
     "name": "stdout",
     "output_type": "stream",
     "text": [
      "2018-08-26 15547\n",
      "2019-01-19 44951\n",
      "2020-03-08 11705\n",
      "2020-03-08 44951\n",
      "2020-03-08 17987\n",
      "2020-03-08 15047\n",
      "2020-03-08 33246\n",
      "2020-03-09 10424\n",
      "2012-09-23 7516\n",
      "2012-05-02 9655\n",
      "2012-05-13 17987\n",
      "2012-09-02 10445\n"
     ]
    }
   ],
   "source": [
    "# to check missing attendances are filled out or not\n",
    "for one_index in attendance_missing_index:\n",
    "    print(match_general_info.loc[one_index]['date'].date(), match_general_info.loc[one_index]['attendance'])"
   ]
  },
  {
   "cell_type": "markdown",
   "metadata": {},
   "source": [
    "As we can see above, missing attendance of matches after 07.01.2021 (no pendamic period) are filled with averages."
   ]
  },
  {
   "cell_type": "code",
   "execution_count": 38,
   "metadata": {},
   "outputs": [
    {
     "name": "stdout",
     "output_type": "stream",
     "text": [
      "day 0\n",
      "date 0\n",
      "starttime 0\n",
      "stadium 0\n",
      "attendance 0\n",
      "referee 0\n",
      "score 0\n",
      "home_score 0\n",
      "away_score 0\n"
     ]
    }
   ],
   "source": [
    "for column in match_general_info.columns:\n",
    "    print(column, match_general_info[column].isnull().sum())"
   ]
  },
  {
   "cell_type": "markdown",
   "metadata": {},
   "source": [
    "Now, we don't have null values anymore."
   ]
  },
  {
   "cell_type": "markdown",
   "metadata": {},
   "source": [
    "#### 3. Data Quality Check - Check if there are inappropriate values\n",
    "##### - categorical data"
   ]
  },
  {
   "cell_type": "code",
   "execution_count": 39,
   "metadata": {},
   "outputs": [
    {
     "data": {
      "text/html": [
       "<div>\n",
       "<style scoped>\n",
       "    .dataframe tbody tr th:only-of-type {\n",
       "        vertical-align: middle;\n",
       "    }\n",
       "\n",
       "    .dataframe tbody tr th {\n",
       "        vertical-align: top;\n",
       "    }\n",
       "\n",
       "    .dataframe thead th {\n",
       "        text-align: right;\n",
       "    }\n",
       "</style>\n",
       "<table border=\"1\" class=\"dataframe\">\n",
       "  <thead>\n",
       "    <tr style=\"text-align: right;\">\n",
       "      <th></th>\n",
       "      <th>day</th>\n",
       "      <th>starttime</th>\n",
       "      <th>stadium</th>\n",
       "      <th>referee</th>\n",
       "      <th>score</th>\n",
       "    </tr>\n",
       "  </thead>\n",
       "  <tbody>\n",
       "    <tr>\n",
       "      <th>count</th>\n",
       "      <td>4980</td>\n",
       "      <td>4980</td>\n",
       "      <td>4980</td>\n",
       "      <td>4980</td>\n",
       "      <td>4980</td>\n",
       "    </tr>\n",
       "    <tr>\n",
       "      <th>unique</th>\n",
       "      <td>7</td>\n",
       "      <td>27</td>\n",
       "      <td>39</td>\n",
       "      <td>97</td>\n",
       "      <td>49</td>\n",
       "    </tr>\n",
       "    <tr>\n",
       "      <th>top</th>\n",
       "      <td>Sun</td>\n",
       "      <td>15:00:00</td>\n",
       "      <td>Giuseppe Meazza</td>\n",
       "      <td>Daniele Orsato</td>\n",
       "      <td>1:1</td>\n",
       "    </tr>\n",
       "    <tr>\n",
       "      <th>freq</th>\n",
       "      <td>2755</td>\n",
       "      <td>1812</td>\n",
       "      <td>497</td>\n",
       "      <td>218</td>\n",
       "      <td>579</td>\n",
       "    </tr>\n",
       "  </tbody>\n",
       "</table>\n",
       "</div>"
      ],
      "text/plain": [
       "         day starttime          stadium         referee score\n",
       "count   4980      4980             4980            4980  4980\n",
       "unique     7        27               39              97    49\n",
       "top      Sun  15:00:00  Giuseppe Meazza  Daniele Orsato   1:1\n",
       "freq    2755      1812              497             218   579"
      ]
     },
     "execution_count": 39,
     "metadata": {},
     "output_type": "execute_result"
    }
   ],
   "source": [
    "match_general_info.describe(include=['object'])"
   ]
  },
  {
   "cell_type": "code",
   "execution_count": 40,
   "metadata": {},
   "outputs": [
    {
     "data": {
      "text/html": [
       "<div>\n",
       "<style scoped>\n",
       "    .dataframe tbody tr th:only-of-type {\n",
       "        vertical-align: middle;\n",
       "    }\n",
       "\n",
       "    .dataframe tbody tr th {\n",
       "        vertical-align: top;\n",
       "    }\n",
       "\n",
       "    .dataframe thead th {\n",
       "        text-align: right;\n",
       "    }\n",
       "</style>\n",
       "<table border=\"1\" class=\"dataframe\">\n",
       "  <thead>\n",
       "    <tr style=\"text-align: right;\">\n",
       "      <th></th>\n",
       "      <th>date</th>\n",
       "    </tr>\n",
       "  </thead>\n",
       "  <tbody>\n",
       "    <tr>\n",
       "      <th>count</th>\n",
       "      <td>4980</td>\n",
       "    </tr>\n",
       "    <tr>\n",
       "      <th>mean</th>\n",
       "      <td>2017-01-26 22:49:09.397590016</td>\n",
       "    </tr>\n",
       "    <tr>\n",
       "      <th>min</th>\n",
       "      <td>2010-08-28 00:00:00</td>\n",
       "    </tr>\n",
       "    <tr>\n",
       "      <th>25%</th>\n",
       "      <td>2013-11-01 12:00:00</td>\n",
       "    </tr>\n",
       "    <tr>\n",
       "      <th>50%</th>\n",
       "      <td>2017-01-22 00:00:00</td>\n",
       "    </tr>\n",
       "    <tr>\n",
       "      <th>75%</th>\n",
       "      <td>2020-07-08 00:00:00</td>\n",
       "    </tr>\n",
       "    <tr>\n",
       "      <th>max</th>\n",
       "      <td>2023-09-03 00:00:00</td>\n",
       "    </tr>\n",
       "  </tbody>\n",
       "</table>\n",
       "</div>"
      ],
      "text/plain": [
       "                                date\n",
       "count                           4980\n",
       "mean   2017-01-26 22:49:09.397590016\n",
       "min              2010-08-28 00:00:00\n",
       "25%              2013-11-01 12:00:00\n",
       "50%              2017-01-22 00:00:00\n",
       "75%              2020-07-08 00:00:00\n",
       "max              2023-09-03 00:00:00"
      ]
     },
     "execution_count": 40,
     "metadata": {},
     "output_type": "execute_result"
    }
   ],
   "source": [
    "match_general_info.describe(include=['datetime'], datetime_is_numeric=True)"
   ]
  },
  {
   "cell_type": "code",
   "execution_count": 41,
   "metadata": {},
   "outputs": [
    {
     "data": {
      "text/plain": [
       "Sun    2755\n",
       "Sat    1173\n",
       "Wed     455\n",
       "Mon     278\n",
       "Fri     136\n",
       "Tue     104\n",
       "Thu      79\n",
       "Name: day, dtype: int64"
      ]
     },
     "execution_count": 41,
     "metadata": {},
     "output_type": "execute_result"
    }
   ],
   "source": [
    "match_general_info['day'].value_counts(dropna=False)"
   ]
  },
  {
   "cell_type": "code",
   "execution_count": 42,
   "metadata": {},
   "outputs": [
    {
     "data": {
      "text/plain": [
       "2012-09-23    11\n",
       "2021-01-06    10\n",
       "2018-03-31    10\n",
       "2011-01-09    10\n",
       "2014-04-19    10\n",
       "              ..\n",
       "2014-04-02     1\n",
       "2015-05-25     1\n",
       "2022-02-28     1\n",
       "2022-03-04     1\n",
       "2017-04-29     1\n",
       "Name: date, Length: 1357, dtype: int64"
      ]
     },
     "execution_count": 42,
     "metadata": {},
     "output_type": "execute_result"
    }
   ],
   "source": [
    "match_general_info['date'].value_counts(dropna=False)"
   ]
  },
  {
   "cell_type": "code",
   "execution_count": 43,
   "metadata": {},
   "outputs": [
    {
     "data": {
      "text/plain": [
       "15:00:00    1812\n",
       "20:45:00    1520\n",
       "18:00:00     675\n",
       "12:30:00     372\n",
       "18:30:00     159\n",
       "20:30:00     123\n",
       "21:00:00      99\n",
       "19:00:00      55\n",
       "19:30:00      54\n",
       "21:45:00      50\n",
       "17:15:00      11\n",
       "16:30:00      10\n",
       "14:30:00       8\n",
       "17:00:00       6\n",
       "18:45:00       6\n",
       "15:15:00       4\n",
       "20:00:00       3\n",
       "20:15:00       2\n",
       "15:30:00       2\n",
       "00:00:00       2\n",
       "18:55:00       1\n",
       "13:45:00       1\n",
       "17:45:00       1\n",
       "12:45:00       1\n",
       "18:15:00       1\n",
       "12:50:00       1\n",
       "16:00:00       1\n",
       "Name: starttime, dtype: int64"
      ]
     },
     "execution_count": 43,
     "metadata": {},
     "output_type": "execute_result"
    }
   ],
   "source": [
    "match_general_info['starttime'].value_counts(dropna=False)"
   ]
  },
  {
   "cell_type": "code",
   "execution_count": 44,
   "metadata": {},
   "outputs": [
    {
     "data": {
      "text/plain": [
       "Giuseppe Meazza                         497\n",
       "Olimpico di Roma                        497\n",
       "Luigi Ferraris                          457\n",
       "Marcantonio Bentegodi                   324\n",
       "Artemio Franchi                         287\n",
       "Stadio Diego Armando Maradona           250\n",
       "Dacia Arena                             249\n",
       "Stadio Renato Dall’Ara                  232\n",
       "Allianz Stadium                         230\n",
       "Gewiss Stadium                          226\n",
       "Stadio Olimpico Grande Torino           212\n",
       "Mapei Stadium - Città del Tricolore     195\n",
       "Ennio Tardini                           156\n",
       "Carlo Castellani                        116\n",
       "Comunale Renzo Barbera \"La Favorita\"    114\n",
       "Unipol Domus                             96\n",
       "Sant'Elia                                90\n",
       "Ettore Giardiniero                       78\n",
       "Cibali - Angelo Massimino                76\n",
       "Orogel Stadium - Dino Manuzzi            58\n",
       "Paolo Mazza                              57\n",
       "Alberto Picco                            56\n",
       "Ezio Scida                               55\n",
       "Adriatico                                41\n",
       "Mario Rigamonti                          39\n",
       "Arechi                                   39\n",
       "Ciro Vigorito                            38\n",
       "Benito Stirpe                            20\n",
       "U-Power Stadium - Brianteo               20\n",
       "Giovanni Zini                            19\n",
       "Pier Luigi Penzo                         19\n",
       "Armando Picchi                           19\n",
       "Comunale Matusa                          19\n",
       "Alberto Braglia                          19\n",
       "San Nicola                               19\n",
       "Stadio Olimpico di Torino                19\n",
       "Silvio Piola                             19\n",
       "Stadio Is Arenas                         12\n",
       "Nereo Rocco                              11\n",
       "Name: stadium, dtype: int64"
      ]
     },
     "execution_count": 44,
     "metadata": {},
     "output_type": "execute_result"
    }
   ],
   "source": [
    "match_general_info['stadium'].value_counts(dropna=False)"
   ]
  },
  {
   "cell_type": "code",
   "execution_count": 45,
   "metadata": {},
   "outputs": [
    {
     "data": {
      "text/plain": [
       "Daniele Orsato             218\n",
       "Daniele Doveri             210\n",
       "Paolo Valeri               201\n",
       "Davide Massa               190\n",
       "Marco Guida                181\n",
       "                          ... \n",
       "Daniel Amabile               1\n",
       "Gianpiero Miele              1\n",
       "Angelo Martino Giancola      1\n",
       "Gennaro Palazzino            1\n",
       "Silvio Baratta               1\n",
       "Name: referee, Length: 97, dtype: int64"
      ]
     },
     "execution_count": 45,
     "metadata": {},
     "output_type": "execute_result"
    }
   ],
   "source": [
    "match_general_info['referee'].value_counts(dropna=False)"
   ]
  },
  {
   "cell_type": "markdown",
   "metadata": {},
   "source": [
    "##### - numerical data\n"
   ]
  },
  {
   "cell_type": "code",
   "execution_count": 46,
   "metadata": {},
   "outputs": [
    {
     "data": {
      "text/html": [
       "<div>\n",
       "<style scoped>\n",
       "    .dataframe tbody tr th:only-of-type {\n",
       "        vertical-align: middle;\n",
       "    }\n",
       "\n",
       "    .dataframe tbody tr th {\n",
       "        vertical-align: top;\n",
       "    }\n",
       "\n",
       "    .dataframe thead th {\n",
       "        text-align: right;\n",
       "    }\n",
       "</style>\n",
       "<table border=\"1\" class=\"dataframe\">\n",
       "  <thead>\n",
       "    <tr style=\"text-align: right;\">\n",
       "      <th></th>\n",
       "      <th>attendance</th>\n",
       "      <th>home_score</th>\n",
       "      <th>away_score</th>\n",
       "    </tr>\n",
       "  </thead>\n",
       "  <tbody>\n",
       "    <tr>\n",
       "      <th>count</th>\n",
       "      <td>4980.000000</td>\n",
       "      <td>4980.000000</td>\n",
       "      <td>4980.000000</td>\n",
       "    </tr>\n",
       "    <tr>\n",
       "      <th>mean</th>\n",
       "      <td>21259.158635</td>\n",
       "      <td>1.513855</td>\n",
       "      <td>1.218273</td>\n",
       "    </tr>\n",
       "    <tr>\n",
       "      <th>std</th>\n",
       "      <td>15799.383399</td>\n",
       "      <td>1.259791</td>\n",
       "      <td>1.143081</td>\n",
       "    </tr>\n",
       "    <tr>\n",
       "      <th>min</th>\n",
       "      <td>0.000000</td>\n",
       "      <td>0.000000</td>\n",
       "      <td>0.000000</td>\n",
       "    </tr>\n",
       "    <tr>\n",
       "      <th>25%</th>\n",
       "      <td>10779.500000</td>\n",
       "      <td>1.000000</td>\n",
       "      <td>0.000000</td>\n",
       "    </tr>\n",
       "    <tr>\n",
       "      <th>50%</th>\n",
       "      <td>18122.500000</td>\n",
       "      <td>1.000000</td>\n",
       "      <td>1.000000</td>\n",
       "    </tr>\n",
       "    <tr>\n",
       "      <th>75%</th>\n",
       "      <td>29131.500000</td>\n",
       "      <td>2.000000</td>\n",
       "      <td>2.000000</td>\n",
       "    </tr>\n",
       "    <tr>\n",
       "      <th>max</th>\n",
       "      <td>80074.000000</td>\n",
       "      <td>8.000000</td>\n",
       "      <td>7.000000</td>\n",
       "    </tr>\n",
       "  </tbody>\n",
       "</table>\n",
       "</div>"
      ],
      "text/plain": [
       "         attendance   home_score   away_score\n",
       "count   4980.000000  4980.000000  4980.000000\n",
       "mean   21259.158635     1.513855     1.218273\n",
       "std    15799.383399     1.259791     1.143081\n",
       "min        0.000000     0.000000     0.000000\n",
       "25%    10779.500000     1.000000     0.000000\n",
       "50%    18122.500000     1.000000     1.000000\n",
       "75%    29131.500000     2.000000     2.000000\n",
       "max    80074.000000     8.000000     7.000000"
      ]
     },
     "execution_count": 46,
     "metadata": {},
     "output_type": "execute_result"
    }
   ],
   "source": [
    "match_general_info.describe()"
   ]
  }
 ],
 "metadata": {
  "kernelspec": {
   "display_name": "base",
   "language": "python",
   "name": "python3"
  },
  "language_info": {
   "codemirror_mode": {
    "name": "ipython",
    "version": 3
   },
   "file_extension": ".py",
   "mimetype": "text/x-python",
   "name": "python",
   "nbconvert_exporter": "python",
   "pygments_lexer": "ipython3",
   "version": "3.9.12"
  },
  "orig_nbformat": 4
 },
 "nbformat": 4,
 "nbformat_minor": 2
}
