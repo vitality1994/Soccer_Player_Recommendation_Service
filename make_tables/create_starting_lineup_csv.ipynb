{
 "cells": [
  {
   "cell_type": "code",
   "execution_count": 14,
   "metadata": {},
   "outputs": [],
   "source": [
    "import pandas as pd\n",
    "import os"
   ]
  },
  {
   "cell_type": "code",
   "execution_count": 15,
   "metadata": {},
   "outputs": [
    {
     "name": "stdout",
     "output_type": "stream",
     "text": [
      "Bundesliga_match_details_1.json\n",
      "Laliga_match_details_3.json\n",
      "Laliga_match_details_2.json\n",
      "Laliga_match_details_5.json\n",
      "Laliga_match_details_4.json\n",
      "Laliga_match_details_7.json\n",
      "Laliga_match_details_6.json\n",
      "Laliga_match_details_1.json\n",
      "Ligue_1_match_details_1.json\n",
      "Ligue_1_match_details_2.json\n",
      "PremierLeague_match_details_1.json\n",
      "PremierLeague_match_details_2.json\n",
      "Seria_A_match_details_4.json\n",
      "Seria_A_match_details_2.json\n",
      "Seria_A_match_details_3.json\n",
      "Seria_A_match_details_1.json\n"
     ]
    }
   ],
   "source": [
    "list_leagues = ['Bundesliga', 'Laliga', 'Ligue_1', 'Premier_league', 'Seria_A']\n",
    "\n",
    "matches = pd.DataFrame()\n",
    "\n",
    "for league_name in list_leagues:\n",
    "\n",
    "    path = f'/Users/jooyong/github_locals/Soccer_Player_Recommendation_Service/data/match_details(from_Transfermarket)/{league_name}_match_details/'\n",
    "    file_list = os.listdir(path)\n",
    "\n",
    "    for file in file_list:\n",
    "        print(file)\n",
    "        filepath = path + file\n",
    "\n",
    "        one_league_matches = pd.read_json(filepath, lines=True)\n",
    "        one_league_matches['league'] = league_name\n",
    "\n",
    "        matches = pd.concat([matches, one_league_matches], axis=0)\n"
   ]
  },
  {
   "cell_type": "code",
   "execution_count": 16,
   "metadata": {},
   "outputs": [
    {
     "data": {
      "text/plain": [
       "['Hans Jörg Butt',\n",
       " 'Holger Badstuber',\n",
       " 'Daniel Van Buyten',\n",
       " 'Diego Contento',\n",
       " 'Philipp Lahm',\n",
       " 'Mark van Bommel',\n",
       " 'Bastian Schweinsteiger',\n",
       " 'Toni Kroos',\n",
       " 'Franck Ribéry',\n",
       " 'Thomas Müller',\n",
       " 'Miroslav Klose']"
      ]
     },
     "execution_count": 16,
     "metadata": {},
     "output_type": "execute_result"
    }
   ],
   "source": [
    "matches['team_details'].iloc[0]['home']['starting_line_up']"
   ]
  },
  {
   "cell_type": "code",
   "execution_count": 17,
   "metadata": {},
   "outputs": [],
   "source": [
    "league_list = list(matches['league'])\n",
    "\n",
    "team_details = pd.DataFrame(matches['team_details'].to_list())\n",
    "home_team_details = pd.DataFrame(team_details['home'].to_list())\n",
    "away_team_details = pd.DataFrame(team_details['away'].to_list())"
   ]
  },
  {
   "cell_type": "code",
   "execution_count": 43,
   "metadata": {},
   "outputs": [],
   "source": [
    "matches_gen_info = matches['match_general_info'].reset_index(drop=True)"
   ]
  },
  {
   "cell_type": "code",
   "execution_count": 44,
   "metadata": {},
   "outputs": [
    {
     "data": {
      "text/plain": [
       "0        {'day': 'Fri', 'date': '8/20/10', 'starttime':...\n",
       "1        {'day': 'Sat', 'date': '8/21/10', 'starttime':...\n",
       "2        {'day': 'Sat', 'date': '8/21/10', 'starttime':...\n",
       "3        {'day': 'Sat', 'date': '8/21/10', 'starttime':...\n",
       "4        {'day': 'Sat', 'date': '8/21/10', 'starttime':...\n",
       "                               ...                        \n",
       "23841    {'day': 'Sat', 'date': '9/22/12', 'starttime':...\n",
       "23842    {'day': 'Sat', 'date': '9/22/12', 'starttime':...\n",
       "23843    {'day': 'Sun', 'date': '9/23/12', 'starttime':...\n",
       "23844    {'day': 'Sun', 'date': '9/23/12', 'starttime':...\n",
       "23845    {'day': 'Sun', 'date': '9/23/12', 'starttime':...\n",
       "Name: match_general_info, Length: 23846, dtype: object"
      ]
     },
     "execution_count": 44,
     "metadata": {},
     "output_type": "execute_result"
    }
   ],
   "source": [
    "matches_gen_info"
   ]
  },
  {
   "cell_type": "code",
   "execution_count": 49,
   "metadata": {},
   "outputs": [
    {
     "data": {
      "text/html": [
       "<div>\n",
       "<style scoped>\n",
       "    .dataframe tbody tr th:only-of-type {\n",
       "        vertical-align: middle;\n",
       "    }\n",
       "\n",
       "    .dataframe tbody tr th {\n",
       "        vertical-align: top;\n",
       "    }\n",
       "\n",
       "    .dataframe thead th {\n",
       "        text-align: right;\n",
       "    }\n",
       "</style>\n",
       "<table border=\"1\" class=\"dataframe\">\n",
       "  <thead>\n",
       "    <tr style=\"text-align: right;\">\n",
       "      <th></th>\n",
       "      <th>day_of_week</th>\n",
       "      <th>date</th>\n",
       "      <th>stadium</th>\n",
       "      <th>attendance</th>\n",
       "      <th>referee</th>\n",
       "      <th>score</th>\n",
       "    </tr>\n",
       "  </thead>\n",
       "  <tbody>\n",
       "    <tr>\n",
       "      <th>0</th>\n",
       "      <td>Fri</td>\n",
       "      <td>8/20/10</td>\n",
       "      <td>Allianz Arena</td>\n",
       "      <td>69.000</td>\n",
       "      <td>Thorsten Kinhöfer</td>\n",
       "      <td>2:1</td>\n",
       "    </tr>\n",
       "    <tr>\n",
       "      <th>1</th>\n",
       "      <td>Sat</td>\n",
       "      <td>8/21/10</td>\n",
       "      <td>PreZero Arena</td>\n",
       "      <td>30.164</td>\n",
       "      <td>Günter Perl</td>\n",
       "      <td>4:1</td>\n",
       "    </tr>\n",
       "    <tr>\n",
       "      <th>2</th>\n",
       "      <td>Sat</td>\n",
       "      <td>8/21/10</td>\n",
       "      <td>Stadion im Borussia-Park</td>\n",
       "      <td>42.202</td>\n",
       "      <td>Peter Gagelmann</td>\n",
       "      <td>1:1</td>\n",
       "    </tr>\n",
       "    <tr>\n",
       "      <th>3</th>\n",
       "      <td>Sat</td>\n",
       "      <td>8/21/10</td>\n",
       "      <td>RheinEnergieSTADION</td>\n",
       "      <td>49.200</td>\n",
       "      <td>Dr. Felix Brych</td>\n",
       "      <td>1:3</td>\n",
       "    </tr>\n",
       "    <tr>\n",
       "      <th>4</th>\n",
       "      <td>Sat</td>\n",
       "      <td>8/21/10</td>\n",
       "      <td>Dreisamstadion</td>\n",
       "      <td>24.000</td>\n",
       "      <td>Dr. Jochen Drees</td>\n",
       "      <td>1:3</td>\n",
       "    </tr>\n",
       "    <tr>\n",
       "      <th>...</th>\n",
       "      <td>...</td>\n",
       "      <td>...</td>\n",
       "      <td>...</td>\n",
       "      <td>...</td>\n",
       "      <td>...</td>\n",
       "      <td>...</td>\n",
       "    </tr>\n",
       "    <tr>\n",
       "      <th>23841</th>\n",
       "      <td>Sat</td>\n",
       "      <td>9/22/12</td>\n",
       "      <td>Ennio Tardini</td>\n",
       "      <td>12.980</td>\n",
       "      <td>Paolo Valeri</td>\n",
       "      <td>1:1</td>\n",
       "    </tr>\n",
       "    <tr>\n",
       "      <th>23842</th>\n",
       "      <td>Sat</td>\n",
       "      <td>9/22/12</td>\n",
       "      <td>Allianz Stadium</td>\n",
       "      <td>38.136</td>\n",
       "      <td>Carmine Russo</td>\n",
       "      <td>2:0</td>\n",
       "    </tr>\n",
       "    <tr>\n",
       "      <th>23843</th>\n",
       "      <td>Sun</td>\n",
       "      <td>9/23/12</td>\n",
       "      <td>Luigi Ferraris</td>\n",
       "      <td>23.859</td>\n",
       "      <td>Gianpaolo Calvarese</td>\n",
       "      <td>1:1</td>\n",
       "    </tr>\n",
       "    <tr>\n",
       "      <th>23844</th>\n",
       "      <td>Sun</td>\n",
       "      <td>9/23/12</td>\n",
       "      <td>Gewiss Stadium</td>\n",
       "      <td>13.467</td>\n",
       "      <td>Piero Giacomelli</td>\n",
       "      <td>1:0</td>\n",
       "    </tr>\n",
       "    <tr>\n",
       "      <th>23845</th>\n",
       "      <td>Sun</td>\n",
       "      <td>9/23/12</td>\n",
       "      <td>Stadio Renato Dall’Ara</td>\n",
       "      <td>22.491</td>\n",
       "      <td>Andrea Romeo</td>\n",
       "      <td>1:1</td>\n",
       "    </tr>\n",
       "  </tbody>\n",
       "</table>\n",
       "<p>23846 rows × 6 columns</p>\n",
       "</div>"
      ],
      "text/plain": [
       "      day_of_week     date                   stadium attendance  \\\n",
       "0             Fri  8/20/10             Allianz Arena     69.000   \n",
       "1             Sat  8/21/10             PreZero Arena     30.164   \n",
       "2             Sat  8/21/10  Stadion im Borussia-Park     42.202   \n",
       "3             Sat  8/21/10       RheinEnergieSTADION     49.200   \n",
       "4             Sat  8/21/10            Dreisamstadion     24.000   \n",
       "...           ...      ...                       ...        ...   \n",
       "23841         Sat  9/22/12             Ennio Tardini     12.980   \n",
       "23842         Sat  9/22/12           Allianz Stadium     38.136   \n",
       "23843         Sun  9/23/12            Luigi Ferraris     23.859   \n",
       "23844         Sun  9/23/12            Gewiss Stadium     13.467   \n",
       "23845         Sun  9/23/12    Stadio Renato Dall’Ara     22.491   \n",
       "\n",
       "                   referee score  \n",
       "0        Thorsten Kinhöfer   2:1  \n",
       "1              Günter Perl   4:1  \n",
       "2          Peter Gagelmann   1:1  \n",
       "3          Dr. Felix Brych   1:3  \n",
       "4         Dr. Jochen Drees   1:3  \n",
       "...                    ...   ...  \n",
       "23841         Paolo Valeri   1:1  \n",
       "23842        Carmine Russo   2:0  \n",
       "23843  Gianpaolo Calvarese   1:1  \n",
       "23844     Piero Giacomelli   1:0  \n",
       "23845         Andrea Romeo   1:1  \n",
       "\n",
       "[23846 rows x 6 columns]"
      ]
     },
     "execution_count": 49,
     "metadata": {},
     "output_type": "execute_result"
    }
   ],
   "source": [
    "pd.DataFrame.from_dict(list(matches_gen_info)).rename(columns={'day':'day_of_week'}).drop(columns=['starttime'])"
   ]
  },
  {
   "cell_type": "code",
   "execution_count": 42,
   "metadata": {},
   "outputs": [
    {
     "data": {
      "text/plain": [
       "0        {'day': 'Fri', 'date': '8/20/10', 'starttime':...\n",
       "1        {'day': 'Sat', 'date': '8/21/10', 'starttime':...\n",
       "2        {'day': 'Sat', 'date': '8/21/10', 'starttime':...\n",
       "3        {'day': 'Sat', 'date': '8/21/10', 'starttime':...\n",
       "4        {'day': 'Sat', 'date': '8/21/10', 'starttime':...\n",
       "                               ...                        \n",
       "23841    {'day': 'Sat', 'date': '9/22/12', 'starttime':...\n",
       "23842    {'day': 'Sat', 'date': '9/22/12', 'starttime':...\n",
       "23843    {'day': 'Sun', 'date': '9/23/12', 'starttime':...\n",
       "23844    {'day': 'Sun', 'date': '9/23/12', 'starttime':...\n",
       "23845    {'day': 'Sun', 'date': '9/23/12', 'starttime':...\n",
       "Name: match_general_info, Length: 23846, dtype: object"
      ]
     },
     "execution_count": 42,
     "metadata": {},
     "output_type": "execute_result"
    }
   ],
   "source": []
  },
  {
   "cell_type": "code",
   "execution_count": null,
   "metadata": {},
   "outputs": [],
   "source": []
  },
  {
   "cell_type": "code",
   "execution_count": null,
   "metadata": {},
   "outputs": [],
   "source": []
  },
  {
   "cell_type": "code",
   "execution_count": null,
   "metadata": {},
   "outputs": [],
   "source": []
  }
 ],
 "metadata": {
  "kernelspec": {
   "display_name": "base",
   "language": "python",
   "name": "python3"
  },
  "language_info": {
   "codemirror_mode": {
    "name": "ipython",
    "version": 3
   },
   "file_extension": ".py",
   "mimetype": "text/x-python",
   "name": "python",
   "nbconvert_exporter": "python",
   "pygments_lexer": "ipython3",
   "version": "3.9.12"
  }
 },
 "nbformat": 4,
 "nbformat_minor": 2
}
