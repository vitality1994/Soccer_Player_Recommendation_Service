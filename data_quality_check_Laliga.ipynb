{
 "cells": [
  {
   "cell_type": "markdown",
   "metadata": {},
   "source": [
    "### Import packages"
   ]
  },
  {
   "cell_type": "code",
   "execution_count": 24,
   "metadata": {},
   "outputs": [],
   "source": [
    "import pandas as pd\n",
    "import matplotlib.pyplot as plt\n",
    "from datetime import datetime\n",
    "import os\n",
    "import math"
   ]
  },
  {
   "cell_type": "markdown",
   "metadata": {},
   "source": [
    "### Load data"
   ]
  },
  {
   "cell_type": "code",
   "execution_count": 25,
   "metadata": {},
   "outputs": [],
   "source": [
    "path = '/Users/jooyong/github_locals/Soccer_Player_Recommendation_Service/data/match_details(from_Transfermarket)/Laliga_match_details/'\n",
    "file_list = os.listdir(path)\n",
    "\n",
    "Laliga_matches = pd.DataFrame()\n",
    "for file in file_list:\n",
    "\n",
    "    filepath = path + file\n",
    "    Laliga_matches = pd.concat([Laliga_matches, pd.read_json(filepath, lines=True)], axis=0)"
   ]
  },
  {
   "cell_type": "code",
   "execution_count": 26,
   "metadata": {},
   "outputs": [
    {
     "data": {
      "text/html": [
       "<div>\n",
       "<style scoped>\n",
       "    .dataframe tbody tr th:only-of-type {\n",
       "        vertical-align: middle;\n",
       "    }\n",
       "\n",
       "    .dataframe tbody tr th {\n",
       "        vertical-align: top;\n",
       "    }\n",
       "\n",
       "    .dataframe thead th {\n",
       "        text-align: right;\n",
       "    }\n",
       "</style>\n",
       "<table border=\"1\" class=\"dataframe\">\n",
       "  <thead>\n",
       "    <tr style=\"text-align: right;\">\n",
       "      <th></th>\n",
       "      <th>match_general_info</th>\n",
       "      <th>team_details</th>\n",
       "      <th>event_details</th>\n",
       "    </tr>\n",
       "  </thead>\n",
       "  <tbody>\n",
       "    <tr>\n",
       "      <th>0</th>\n",
       "      <td>{'day': 'Fri', 'date': '12/11/20', 'starttime'...</td>\n",
       "      <td>{'home': {'name': 'Real Valladolid CF', 'rank'...</td>\n",
       "      <td>{'home': {'goal': [{'scorer': 'Shon Weissman',...</td>\n",
       "    </tr>\n",
       "    <tr>\n",
       "      <th>1</th>\n",
       "      <td>{'day': 'Sat', 'date': '12/12/20', 'starttime'...</td>\n",
       "      <td>{'home': {'name': 'Valencia CF', 'rank': '14',...</td>\n",
       "      <td>{'home': {'goal': [{'scorer': 'Carlos Soler', ...</td>\n",
       "    </tr>\n",
       "    <tr>\n",
       "      <th>2</th>\n",
       "      <td>{'day': 'Sat', 'date': '12/12/20', 'starttime'...</td>\n",
       "      <td>{'home': {'name': 'Getafe CF', 'rank': '17', '...</td>\n",
       "      <td>{'home': {'card': [{'name': 'Mauro Arambarri',...</td>\n",
       "    </tr>\n",
       "    <tr>\n",
       "      <th>3</th>\n",
       "      <td>{'day': 'Sat', 'date': '12/12/20', 'starttime'...</td>\n",
       "      <td>{'home': {'name': 'SD Huesca', 'rank': '19', '...</td>\n",
       "      <td>{'home': {'goal': [{'scorer': 'Javi Ontiveros'...</td>\n",
       "    </tr>\n",
       "    <tr>\n",
       "      <th>4</th>\n",
       "      <td>{'day': 'Sat', 'date': '12/12/20', 'starttime'...</td>\n",
       "      <td>{'home': {'name': 'Real Madrid', 'rank': '3', ...</td>\n",
       "      <td>{'home': {'goal': [{'scorer': 'Casemiro', 'goa...</td>\n",
       "    </tr>\n",
       "  </tbody>\n",
       "</table>\n",
       "</div>"
      ],
      "text/plain": [
       "                                  match_general_info  \\\n",
       "0  {'day': 'Fri', 'date': '12/11/20', 'starttime'...   \n",
       "1  {'day': 'Sat', 'date': '12/12/20', 'starttime'...   \n",
       "2  {'day': 'Sat', 'date': '12/12/20', 'starttime'...   \n",
       "3  {'day': 'Sat', 'date': '12/12/20', 'starttime'...   \n",
       "4  {'day': 'Sat', 'date': '12/12/20', 'starttime'...   \n",
       "\n",
       "                                        team_details  \\\n",
       "0  {'home': {'name': 'Real Valladolid CF', 'rank'...   \n",
       "1  {'home': {'name': 'Valencia CF', 'rank': '14',...   \n",
       "2  {'home': {'name': 'Getafe CF', 'rank': '17', '...   \n",
       "3  {'home': {'name': 'SD Huesca', 'rank': '19', '...   \n",
       "4  {'home': {'name': 'Real Madrid', 'rank': '3', ...   \n",
       "\n",
       "                                       event_details  \n",
       "0  {'home': {'goal': [{'scorer': 'Shon Weissman',...  \n",
       "1  {'home': {'goal': [{'scorer': 'Carlos Soler', ...  \n",
       "2  {'home': {'card': [{'name': 'Mauro Arambarri',...  \n",
       "3  {'home': {'goal': [{'scorer': 'Javi Ontiveros'...  \n",
       "4  {'home': {'goal': [{'scorer': 'Casemiro', 'goa...  "
      ]
     },
     "execution_count": 26,
     "metadata": {},
     "output_type": "execute_result"
    }
   ],
   "source": [
    "Laliga_matches.head(5)"
   ]
  },
  {
   "cell_type": "code",
   "execution_count": 27,
   "metadata": {},
   "outputs": [
    {
     "name": "stdout",
     "output_type": "stream",
     "text": [
      "number of matches from season 2010-2011 to the date the data scraped: 5005\n"
     ]
    }
   ],
   "source": [
    "print('number of matches from season 2010-2011 to the date the data scraped:', len(Laliga_matches))"
   ]
  },
  {
   "cell_type": "markdown",
   "metadata": {},
   "source": [
    "### Match general information analysis\n",
    "#### 1. Observe initial form"
   ]
  },
  {
   "cell_type": "code",
   "execution_count": 28,
   "metadata": {},
   "outputs": [],
   "source": [
    "match_general_info = pd.DataFrame(Laliga_matches['match_general_info'].to_list())"
   ]
  },
  {
   "cell_type": "code",
   "execution_count": 29,
   "metadata": {},
   "outputs": [
    {
     "data": {
      "text/html": [
       "<div>\n",
       "<style scoped>\n",
       "    .dataframe tbody tr th:only-of-type {\n",
       "        vertical-align: middle;\n",
       "    }\n",
       "\n",
       "    .dataframe tbody tr th {\n",
       "        vertical-align: top;\n",
       "    }\n",
       "\n",
       "    .dataframe thead th {\n",
       "        text-align: right;\n",
       "    }\n",
       "</style>\n",
       "<table border=\"1\" class=\"dataframe\">\n",
       "  <thead>\n",
       "    <tr style=\"text-align: right;\">\n",
       "      <th></th>\n",
       "      <th>day</th>\n",
       "      <th>date</th>\n",
       "      <th>starttime</th>\n",
       "      <th>stadium</th>\n",
       "      <th>attendance</th>\n",
       "      <th>referee</th>\n",
       "      <th>score</th>\n",
       "    </tr>\n",
       "  </thead>\n",
       "  <tbody>\n",
       "    <tr>\n",
       "      <th>0</th>\n",
       "      <td>Fri</td>\n",
       "      <td>12/11/20</td>\n",
       "      <td>9:00 PM</td>\n",
       "      <td>Nuevo José Zorrilla</td>\n",
       "      <td>None</td>\n",
       "      <td>Adrián Cordero Vega</td>\n",
       "      <td>3:2</td>\n",
       "    </tr>\n",
       "    <tr>\n",
       "      <th>1</th>\n",
       "      <td>Sat</td>\n",
       "      <td>12/12/20</td>\n",
       "      <td>2:00 PM</td>\n",
       "      <td>Mestalla</td>\n",
       "      <td>None</td>\n",
       "      <td>Carlos del Cerro Grande</td>\n",
       "      <td>2:2</td>\n",
       "    </tr>\n",
       "    <tr>\n",
       "      <th>2</th>\n",
       "      <td>Sat</td>\n",
       "      <td>12/12/20</td>\n",
       "      <td>4:15 PM</td>\n",
       "      <td>Coliseum Alfonso Pérez</td>\n",
       "      <td>None</td>\n",
       "      <td>Juan Martínez Munuera</td>\n",
       "      <td>0:1</td>\n",
       "    </tr>\n",
       "    <tr>\n",
       "      <th>3</th>\n",
       "      <td>Sat</td>\n",
       "      <td>12/12/20</td>\n",
       "      <td>6:30 PM</td>\n",
       "      <td>El Alcoraz</td>\n",
       "      <td>None</td>\n",
       "      <td>Mario Melero López</td>\n",
       "      <td>1:0</td>\n",
       "    </tr>\n",
       "    <tr>\n",
       "      <th>4</th>\n",
       "      <td>Sat</td>\n",
       "      <td>12/12/20</td>\n",
       "      <td>9:00 PM</td>\n",
       "      <td>Estadio Alfredo Di Stéfano</td>\n",
       "      <td>None</td>\n",
       "      <td>Mateu Lahoz</td>\n",
       "      <td>2:0</td>\n",
       "    </tr>\n",
       "  </tbody>\n",
       "</table>\n",
       "</div>"
      ],
      "text/plain": [
       "   day      date starttime                     stadium attendance  \\\n",
       "0  Fri  12/11/20   9:00 PM         Nuevo José Zorrilla       None   \n",
       "1  Sat  12/12/20   2:00 PM                    Mestalla       None   \n",
       "2  Sat  12/12/20   4:15 PM      Coliseum Alfonso Pérez       None   \n",
       "3  Sat  12/12/20   6:30 PM                  El Alcoraz       None   \n",
       "4  Sat  12/12/20   9:00 PM  Estadio Alfredo Di Stéfano       None   \n",
       "\n",
       "                   referee score  \n",
       "0      Adrián Cordero Vega   3:2  \n",
       "1  Carlos del Cerro Grande   2:2  \n",
       "2    Juan Martínez Munuera   0:1  \n",
       "3       Mario Melero López   1:0  \n",
       "4              Mateu Lahoz   2:0  "
      ]
     },
     "execution_count": 29,
     "metadata": {},
     "output_type": "execute_result"
    }
   ],
   "source": [
    "match_general_info.head(5)"
   ]
  },
  {
   "cell_type": "code",
   "execution_count": 30,
   "metadata": {},
   "outputs": [
    {
     "name": "stdout",
     "output_type": "stream",
     "text": [
      "day 0\n",
      "date 0\n",
      "starttime 1\n",
      "stadium 0\n",
      "attendance 501\n",
      "referee 4\n",
      "score 0\n"
     ]
    }
   ],
   "source": [
    "for column in match_general_info.columns:\n",
    "\n",
    "    print(column, match_general_info[column].isnull().sum())\n"
   ]
  },
  {
   "cell_type": "markdown",
   "metadata": {},
   "source": [
    "Attendance data need to be observed after converting string type date to datetype date to check why there are many null values."
   ]
  },
  {
   "cell_type": "markdown",
   "metadata": {},
   "source": [
    "#### 2. Data pre-processing"
   ]
  },
  {
   "cell_type": "code",
   "execution_count": 31,
   "metadata": {},
   "outputs": [],
   "source": [
    "def home_score(row):\n",
    "    try:\n",
    "        temp = row.split(':')\n",
    "        home = int(temp[0])\n",
    "    except:\n",
    "        home = row\n",
    "    return home\n",
    "def away_score(row):\n",
    "    try:\n",
    "        temp = row.split(':')\n",
    "        away = int(temp[1])\n",
    "    except:\n",
    "        away = row\n",
    "    return away\n",
    "\n",
    "match_general_info['home_score'] = match_general_info['score'].apply(lambda x: home_score(x))\n",
    "match_general_info['away_score'] = match_general_info['score'].apply(lambda x: away_score(x))\n",
    "\n",
    "match_general_info['date'] = pd.to_datetime(match_general_info['date'])\n",
    "match_general_info['starttime'] = pd.to_datetime(match_general_info['starttime']).apply(lambda x: datetime.time(x))"
   ]
  },
  {
   "cell_type": "code",
   "execution_count": 32,
   "metadata": {},
   "outputs": [
    {
     "data": {
      "text/html": [
       "<div>\n",
       "<style scoped>\n",
       "    .dataframe tbody tr th:only-of-type {\n",
       "        vertical-align: middle;\n",
       "    }\n",
       "\n",
       "    .dataframe tbody tr th {\n",
       "        vertical-align: top;\n",
       "    }\n",
       "\n",
       "    .dataframe thead th {\n",
       "        text-align: right;\n",
       "    }\n",
       "</style>\n",
       "<table border=\"1\" class=\"dataframe\">\n",
       "  <thead>\n",
       "    <tr style=\"text-align: right;\">\n",
       "      <th></th>\n",
       "      <th>day</th>\n",
       "      <th>date</th>\n",
       "      <th>starttime</th>\n",
       "      <th>stadium</th>\n",
       "      <th>attendance</th>\n",
       "      <th>referee</th>\n",
       "      <th>score</th>\n",
       "      <th>home_score</th>\n",
       "      <th>away_score</th>\n",
       "    </tr>\n",
       "  </thead>\n",
       "  <tbody>\n",
       "    <tr>\n",
       "      <th>0</th>\n",
       "      <td>Fri</td>\n",
       "      <td>2020-12-11</td>\n",
       "      <td>21:00:00</td>\n",
       "      <td>Nuevo José Zorrilla</td>\n",
       "      <td>None</td>\n",
       "      <td>Adrián Cordero Vega</td>\n",
       "      <td>3:2</td>\n",
       "      <td>3</td>\n",
       "      <td>2</td>\n",
       "    </tr>\n",
       "    <tr>\n",
       "      <th>1</th>\n",
       "      <td>Sat</td>\n",
       "      <td>2020-12-12</td>\n",
       "      <td>14:00:00</td>\n",
       "      <td>Mestalla</td>\n",
       "      <td>None</td>\n",
       "      <td>Carlos del Cerro Grande</td>\n",
       "      <td>2:2</td>\n",
       "      <td>2</td>\n",
       "      <td>2</td>\n",
       "    </tr>\n",
       "    <tr>\n",
       "      <th>2</th>\n",
       "      <td>Sat</td>\n",
       "      <td>2020-12-12</td>\n",
       "      <td>16:15:00</td>\n",
       "      <td>Coliseum Alfonso Pérez</td>\n",
       "      <td>None</td>\n",
       "      <td>Juan Martínez Munuera</td>\n",
       "      <td>0:1</td>\n",
       "      <td>0</td>\n",
       "      <td>1</td>\n",
       "    </tr>\n",
       "    <tr>\n",
       "      <th>3</th>\n",
       "      <td>Sat</td>\n",
       "      <td>2020-12-12</td>\n",
       "      <td>18:30:00</td>\n",
       "      <td>El Alcoraz</td>\n",
       "      <td>None</td>\n",
       "      <td>Mario Melero López</td>\n",
       "      <td>1:0</td>\n",
       "      <td>1</td>\n",
       "      <td>0</td>\n",
       "    </tr>\n",
       "    <tr>\n",
       "      <th>4</th>\n",
       "      <td>Sat</td>\n",
       "      <td>2020-12-12</td>\n",
       "      <td>21:00:00</td>\n",
       "      <td>Estadio Alfredo Di Stéfano</td>\n",
       "      <td>None</td>\n",
       "      <td>Mateu Lahoz</td>\n",
       "      <td>2:0</td>\n",
       "      <td>2</td>\n",
       "      <td>0</td>\n",
       "    </tr>\n",
       "  </tbody>\n",
       "</table>\n",
       "</div>"
      ],
      "text/plain": [
       "   day       date starttime                     stadium attendance  \\\n",
       "0  Fri 2020-12-11  21:00:00         Nuevo José Zorrilla       None   \n",
       "1  Sat 2020-12-12  14:00:00                    Mestalla       None   \n",
       "2  Sat 2020-12-12  16:15:00      Coliseum Alfonso Pérez       None   \n",
       "3  Sat 2020-12-12  18:30:00                  El Alcoraz       None   \n",
       "4  Sat 2020-12-12  21:00:00  Estadio Alfredo Di Stéfano       None   \n",
       "\n",
       "                   referee score  home_score  away_score  \n",
       "0      Adrián Cordero Vega   3:2           3           2  \n",
       "1  Carlos del Cerro Grande   2:2           2           2  \n",
       "2    Juan Martínez Munuera   0:1           0           1  \n",
       "3       Mario Melero López   1:0           1           0  \n",
       "4              Mateu Lahoz   2:0           2           0  "
      ]
     },
     "execution_count": 32,
     "metadata": {},
     "output_type": "execute_result"
    }
   ],
   "source": [
    "match_general_info.head(5)"
   ]
  },
  {
   "cell_type": "code",
   "execution_count": 33,
   "metadata": {},
   "outputs": [
    {
     "data": {
      "text/html": [
       "<div>\n",
       "<style scoped>\n",
       "    .dataframe tbody tr th:only-of-type {\n",
       "        vertical-align: middle;\n",
       "    }\n",
       "\n",
       "    .dataframe tbody tr th {\n",
       "        vertical-align: top;\n",
       "    }\n",
       "\n",
       "    .dataframe thead th {\n",
       "        text-align: right;\n",
       "    }\n",
       "</style>\n",
       "<table border=\"1\" class=\"dataframe\">\n",
       "  <thead>\n",
       "    <tr style=\"text-align: right;\">\n",
       "      <th></th>\n",
       "      <th>day</th>\n",
       "      <th>date</th>\n",
       "      <th>starttime</th>\n",
       "      <th>stadium</th>\n",
       "      <th>attendance</th>\n",
       "      <th>referee</th>\n",
       "      <th>score</th>\n",
       "      <th>home_score</th>\n",
       "      <th>away_score</th>\n",
       "    </tr>\n",
       "  </thead>\n",
       "  <tbody>\n",
       "    <tr>\n",
       "      <th>0</th>\n",
       "      <td>Fri</td>\n",
       "      <td>2020-12-11</td>\n",
       "      <td>21:00:00</td>\n",
       "      <td>Nuevo José Zorrilla</td>\n",
       "      <td>None</td>\n",
       "      <td>Adrián Cordero Vega</td>\n",
       "      <td>3:2</td>\n",
       "      <td>3</td>\n",
       "      <td>2</td>\n",
       "    </tr>\n",
       "    <tr>\n",
       "      <th>1</th>\n",
       "      <td>Sat</td>\n",
       "      <td>2020-12-12</td>\n",
       "      <td>14:00:00</td>\n",
       "      <td>Mestalla</td>\n",
       "      <td>None</td>\n",
       "      <td>Carlos del Cerro Grande</td>\n",
       "      <td>2:2</td>\n",
       "      <td>2</td>\n",
       "      <td>2</td>\n",
       "    </tr>\n",
       "    <tr>\n",
       "      <th>2</th>\n",
       "      <td>Sat</td>\n",
       "      <td>2020-12-12</td>\n",
       "      <td>16:15:00</td>\n",
       "      <td>Coliseum Alfonso Pérez</td>\n",
       "      <td>None</td>\n",
       "      <td>Juan Martínez Munuera</td>\n",
       "      <td>0:1</td>\n",
       "      <td>0</td>\n",
       "      <td>1</td>\n",
       "    </tr>\n",
       "    <tr>\n",
       "      <th>3</th>\n",
       "      <td>Sat</td>\n",
       "      <td>2020-12-12</td>\n",
       "      <td>18:30:00</td>\n",
       "      <td>El Alcoraz</td>\n",
       "      <td>None</td>\n",
       "      <td>Mario Melero López</td>\n",
       "      <td>1:0</td>\n",
       "      <td>1</td>\n",
       "      <td>0</td>\n",
       "    </tr>\n",
       "    <tr>\n",
       "      <th>4</th>\n",
       "      <td>Sat</td>\n",
       "      <td>2020-12-12</td>\n",
       "      <td>21:00:00</td>\n",
       "      <td>Estadio Alfredo Di Stéfano</td>\n",
       "      <td>None</td>\n",
       "      <td>Mateu Lahoz</td>\n",
       "      <td>2:0</td>\n",
       "      <td>2</td>\n",
       "      <td>0</td>\n",
       "    </tr>\n",
       "    <tr>\n",
       "      <th>...</th>\n",
       "      <td>...</td>\n",
       "      <td>...</td>\n",
       "      <td>...</td>\n",
       "      <td>...</td>\n",
       "      <td>...</td>\n",
       "      <td>...</td>\n",
       "      <td>...</td>\n",
       "      <td>...</td>\n",
       "      <td>...</td>\n",
       "    </tr>\n",
       "    <tr>\n",
       "      <th>4377</th>\n",
       "      <td>Wed</td>\n",
       "      <td>2021-04-21</td>\n",
       "      <td>21:00:00</td>\n",
       "      <td>Manuel Martínez Valero</td>\n",
       "      <td>None</td>\n",
       "      <td>José María Sánchez Martínez</td>\n",
       "      <td>1:1</td>\n",
       "      <td>1</td>\n",
       "      <td>1</td>\n",
       "    </tr>\n",
       "    <tr>\n",
       "      <th>4378</th>\n",
       "      <td>Wed</td>\n",
       "      <td>2021-04-21</td>\n",
       "      <td>22:00:00</td>\n",
       "      <td>Nuevo Mirandilla</td>\n",
       "      <td>None</td>\n",
       "      <td>Mateu Lahoz</td>\n",
       "      <td>0:3</td>\n",
       "      <td>0</td>\n",
       "      <td>3</td>\n",
       "    </tr>\n",
       "    <tr>\n",
       "      <th>4379</th>\n",
       "      <td>Thu</td>\n",
       "      <td>2021-04-22</td>\n",
       "      <td>19:00:00</td>\n",
       "      <td>Civitas Metropolitano</td>\n",
       "      <td>None</td>\n",
       "      <td>José Luis Munuera Montero</td>\n",
       "      <td>2:0</td>\n",
       "      <td>2</td>\n",
       "      <td>0</td>\n",
       "    </tr>\n",
       "    <tr>\n",
       "      <th>4611</th>\n",
       "      <td>Sat</td>\n",
       "      <td>2023-05-20</td>\n",
       "      <td>16:15:00</td>\n",
       "      <td>San Mamés</td>\n",
       "      <td>None</td>\n",
       "      <td>Mario Melero López</td>\n",
       "      <td>2:1</td>\n",
       "      <td>2</td>\n",
       "      <td>1</td>\n",
       "    </tr>\n",
       "    <tr>\n",
       "      <th>4627</th>\n",
       "      <td>Thu</td>\n",
       "      <td>2023-05-25</td>\n",
       "      <td>19:30:00</td>\n",
       "      <td>Mallorca Son Moix</td>\n",
       "      <td>None</td>\n",
       "      <td>Alejandro Hernández Hernández</td>\n",
       "      <td>1:0</td>\n",
       "      <td>1</td>\n",
       "      <td>0</td>\n",
       "    </tr>\n",
       "  </tbody>\n",
       "</table>\n",
       "<p>501 rows × 9 columns</p>\n",
       "</div>"
      ],
      "text/plain": [
       "      day       date starttime                     stadium attendance  \\\n",
       "0     Fri 2020-12-11  21:00:00         Nuevo José Zorrilla       None   \n",
       "1     Sat 2020-12-12  14:00:00                    Mestalla       None   \n",
       "2     Sat 2020-12-12  16:15:00      Coliseum Alfonso Pérez       None   \n",
       "3     Sat 2020-12-12  18:30:00                  El Alcoraz       None   \n",
       "4     Sat 2020-12-12  21:00:00  Estadio Alfredo Di Stéfano       None   \n",
       "...   ...        ...       ...                         ...        ...   \n",
       "4377  Wed 2021-04-21  21:00:00      Manuel Martínez Valero       None   \n",
       "4378  Wed 2021-04-21  22:00:00            Nuevo Mirandilla       None   \n",
       "4379  Thu 2021-04-22  19:00:00       Civitas Metropolitano       None   \n",
       "4611  Sat 2023-05-20  16:15:00                   San Mamés       None   \n",
       "4627  Thu 2023-05-25  19:30:00           Mallorca Son Moix       None   \n",
       "\n",
       "                            referee score  home_score  away_score  \n",
       "0               Adrián Cordero Vega   3:2           3           2  \n",
       "1           Carlos del Cerro Grande   2:2           2           2  \n",
       "2             Juan Martínez Munuera   0:1           0           1  \n",
       "3                Mario Melero López   1:0           1           0  \n",
       "4                       Mateu Lahoz   2:0           2           0  \n",
       "...                             ...   ...         ...         ...  \n",
       "4377    José María Sánchez Martínez   1:1           1           1  \n",
       "4378                    Mateu Lahoz   0:3           0           3  \n",
       "4379      José Luis Munuera Montero   2:0           2           0  \n",
       "4611             Mario Melero López   2:1           2           1  \n",
       "4627  Alejandro Hernández Hernández   1:0           1           0  \n",
       "\n",
       "[501 rows x 9 columns]"
      ]
     },
     "execution_count": 33,
     "metadata": {},
     "output_type": "execute_result"
    }
   ],
   "source": [
    "# cases having null value for attendance\n",
    "match_general_info[match_general_info['attendance'].isnull()]"
   ]
  },
  {
   "cell_type": "code",
   "execution_count": 34,
   "metadata": {},
   "outputs": [
    {
     "data": {
      "image/png": "[encoded data removed]",
      "text/plain": [
       "<Figure size 640x480 with 1 Axes>"
      ]
     },
     "metadata": {},
     "output_type": "display_data"
    }
   ],
   "source": [
    "plt.hist(match_general_info[match_general_info['attendance'].isnull()]['date'])\n",
    "plt.xticks(rotation = 45)\n",
    "plt.show()"
   ]
  },
  {
   "cell_type": "markdown",
   "metadata": {},
   "source": [
    "Most of null cases for the attendance locate season 2020-2021, and it could be because of the pendemic. <br>\n",
    "There were many games with no attendance during the pendamic, so 0 will replace null values for attendance. <br>\n",
    "For other cases, average number of attendance for the stadium will replace null values.\n",
    "\n",
    "Null value attendance of matches bewtween 05.01.2020 and 07.01.2021 will be replaced with 0."
   ]
  },
  {
   "cell_type": "code",
   "execution_count": 35,
   "metadata": {},
   "outputs": [
    {
     "data": {
      "text/html": [
       "<div>\n",
       "<style scoped>\n",
       "    .dataframe tbody tr th:only-of-type {\n",
       "        vertical-align: middle;\n",
       "    }\n",
       "\n",
       "    .dataframe tbody tr th {\n",
       "        vertical-align: top;\n",
       "    }\n",
       "\n",
       "    .dataframe thead th {\n",
       "        text-align: right;\n",
       "    }\n",
       "</style>\n",
       "<table border=\"1\" class=\"dataframe\">\n",
       "  <thead>\n",
       "    <tr style=\"text-align: right;\">\n",
       "      <th></th>\n",
       "      <th>date</th>\n",
       "      <th>stadium</th>\n",
       "    </tr>\n",
       "  </thead>\n",
       "  <tbody>\n",
       "    <tr>\n",
       "      <th>2485</th>\n",
       "      <td>2017-10-01</td>\n",
       "      <td>Spotify Camp Nou</td>\n",
       "    </tr>\n",
       "    <tr>\n",
       "      <th>4611</th>\n",
       "      <td>2023-05-20</td>\n",
       "      <td>San Mamés</td>\n",
       "    </tr>\n",
       "    <tr>\n",
       "      <th>4627</th>\n",
       "      <td>2023-05-25</td>\n",
       "      <td>Mallorca Son Moix</td>\n",
       "    </tr>\n",
       "  </tbody>\n",
       "</table>\n",
       "</div>"
      ],
      "text/plain": [
       "           date            stadium\n",
       "2485 2017-10-01   Spotify Camp Nou\n",
       "4611 2023-05-20          San Mamés\n",
       "4627 2023-05-25  Mallorca Son Moix"
      ]
     },
     "execution_count": 35,
     "metadata": {},
     "output_type": "execute_result"
    }
   ],
   "source": [
    "match_general_info.loc[(match_general_info['date']<='2021-07-01') & (match_general_info['date']>='2020-05-01'), 'attendance'] = \\\n",
    "    match_general_info[(match_general_info['date']<='2021-07-01') & (match_general_info['date']>='2020-05-01')]['attendance'].fillna('0')\n",
    "match_general_info[match_general_info['attendance'].isnull()][['date', 'stadium']]"
   ]
  },
  {
   "cell_type": "code",
   "execution_count": 36,
   "metadata": {},
   "outputs": [],
   "source": [
    "# save indices for missing attendance samples to later check\n",
    "attendance_missing_index = match_general_info[match_general_info['attendance'].isnull()].index\n",
    "\n",
    "for stadium in set(match_general_info[match_general_info['attendance'].isnull()]['stadium']):\n",
    "\n",
    "    average = pd.to_numeric(match_general_info[match_general_info['stadium']==stadium]['attendance'].dropna().apply(lambda x: x.replace('.', ''))).mean()\n",
    "    if math.isnan(average)!=True:\n",
    "        match_general_info.loc[match_general_info['stadium']==stadium,'attendance'] = match_general_info[match_general_info['stadium']==stadium]['attendance'].fillna(str(round(average)))\n",
    "    \n",
    "    else:\n",
    "        print('cannot find an average, missing value filled out manually:', stadium)\n",
    "\n",
    "match_general_info['attendance'] = pd.to_numeric(match_general_info['attendance'].apply(lambda x: x.replace('.', ''))).apply(lambda x: round(x))"
   ]
  },
  {
   "cell_type": "code",
   "execution_count": 37,
   "metadata": {},
   "outputs": [
    {
     "name": "stdout",
     "output_type": "stream",
     "text": [
      "2017-10-01 66998\n",
      "2023-05-20 34519\n",
      "2023-05-25 13528\n"
     ]
    }
   ],
   "source": [
    "# to check missing attendances are filled out or not\n",
    "for one_index in attendance_missing_index:\n",
    "    print(match_general_info.loc[one_index]['date'].date(), match_general_info.loc[one_index]['attendance'])"
   ]
  },
  {
   "cell_type": "markdown",
   "metadata": {},
   "source": [
    "As we can see above, missing attendance of matches after 07.01.2021 (no pendamic period) are filled with averages."
   ]
  },
  {
   "cell_type": "code",
   "execution_count": 38,
   "metadata": {},
   "outputs": [
    {
     "name": "stdout",
     "output_type": "stream",
     "text": [
      "day 0\n",
      "date 0\n",
      "starttime 0\n",
      "stadium 0\n",
      "attendance 0\n",
      "referee 4\n",
      "score 0\n",
      "home_score 0\n",
      "away_score 0\n"
     ]
    }
   ],
   "source": [
    "for column in match_general_info.columns:\n",
    "    print(column, match_general_info[column].isnull().sum())"
   ]
  },
  {
   "cell_type": "markdown",
   "metadata": {},
   "source": [
    "Now, we don't have null values anymore."
   ]
  },
  {
   "cell_type": "markdown",
   "metadata": {},
   "source": [
    "#### 3. Data Quality Check - Check if there are inappropriate values\n",
    "##### - categorical data"
   ]
  },
  {
   "cell_type": "code",
   "execution_count": 39,
   "metadata": {},
   "outputs": [
    {
     "data": {
      "text/html": [
       "<div>\n",
       "<style scoped>\n",
       "    .dataframe tbody tr th:only-of-type {\n",
       "        vertical-align: middle;\n",
       "    }\n",
       "\n",
       "    .dataframe tbody tr th {\n",
       "        vertical-align: top;\n",
       "    }\n",
       "\n",
       "    .dataframe thead th {\n",
       "        text-align: right;\n",
       "    }\n",
       "</style>\n",
       "<table border=\"1\" class=\"dataframe\">\n",
       "  <thead>\n",
       "    <tr style=\"text-align: right;\">\n",
       "      <th></th>\n",
       "      <th>day</th>\n",
       "      <th>starttime</th>\n",
       "      <th>stadium</th>\n",
       "      <th>referee</th>\n",
       "      <th>score</th>\n",
       "    </tr>\n",
       "  </thead>\n",
       "  <tbody>\n",
       "    <tr>\n",
       "      <th>count</th>\n",
       "      <td>5005</td>\n",
       "      <td>5005</td>\n",
       "      <td>5005</td>\n",
       "      <td>5001</td>\n",
       "      <td>5005</td>\n",
       "    </tr>\n",
       "    <tr>\n",
       "      <th>unique</th>\n",
       "      <td>7</td>\n",
       "      <td>33</td>\n",
       "      <td>41</td>\n",
       "      <td>55</td>\n",
       "      <td>55</td>\n",
       "    </tr>\n",
       "    <tr>\n",
       "      <th>top</th>\n",
       "      <td>Sun</td>\n",
       "      <td>21:00:00</td>\n",
       "      <td>Ramón Sánchez-Pizjuán</td>\n",
       "      <td>Mateu Lahoz</td>\n",
       "      <td>1:1</td>\n",
       "    </tr>\n",
       "    <tr>\n",
       "      <th>freq</th>\n",
       "      <td>2009</td>\n",
       "      <td>820</td>\n",
       "      <td>251</td>\n",
       "      <td>253</td>\n",
       "      <td>565</td>\n",
       "    </tr>\n",
       "  </tbody>\n",
       "</table>\n",
       "</div>"
      ],
      "text/plain": [
       "         day starttime                stadium      referee score\n",
       "count   5005      5005                   5005         5001  5005\n",
       "unique     7        33                     41           55    55\n",
       "top      Sun  21:00:00  Ramón Sánchez-Pizjuán  Mateu Lahoz   1:1\n",
       "freq    2009       820                    251          253   565"
      ]
     },
     "execution_count": 39,
     "metadata": {},
     "output_type": "execute_result"
    }
   ],
   "source": [
    "match_general_info.describe(include=['object'])"
   ]
  },
  {
   "cell_type": "code",
   "execution_count": 40,
   "metadata": {},
   "outputs": [
    {
     "data": {
      "text/html": [
       "<div>\n",
       "<style scoped>\n",
       "    .dataframe tbody tr th:only-of-type {\n",
       "        vertical-align: middle;\n",
       "    }\n",
       "\n",
       "    .dataframe tbody tr th {\n",
       "        vertical-align: top;\n",
       "    }\n",
       "\n",
       "    .dataframe thead th {\n",
       "        text-align: right;\n",
       "    }\n",
       "</style>\n",
       "<table border=\"1\" class=\"dataframe\">\n",
       "  <thead>\n",
       "    <tr style=\"text-align: right;\">\n",
       "      <th></th>\n",
       "      <th>date</th>\n",
       "    </tr>\n",
       "  </thead>\n",
       "  <tbody>\n",
       "    <tr>\n",
       "      <th>count</th>\n",
       "      <td>5005</td>\n",
       "    </tr>\n",
       "    <tr>\n",
       "      <th>mean</th>\n",
       "      <td>2017-02-06 19:47:57.842157824</td>\n",
       "    </tr>\n",
       "    <tr>\n",
       "      <th>min</th>\n",
       "      <td>2010-08-28 00:00:00</td>\n",
       "    </tr>\n",
       "    <tr>\n",
       "      <th>25%</th>\n",
       "      <td>2013-10-31 00:00:00</td>\n",
       "    </tr>\n",
       "    <tr>\n",
       "      <th>50%</th>\n",
       "      <td>2017-02-17 00:00:00</td>\n",
       "    </tr>\n",
       "    <tr>\n",
       "      <th>75%</th>\n",
       "      <td>2020-07-02 00:00:00</td>\n",
       "    </tr>\n",
       "    <tr>\n",
       "      <th>max</th>\n",
       "      <td>2023-09-03 00:00:00</td>\n",
       "    </tr>\n",
       "  </tbody>\n",
       "</table>\n",
       "</div>"
      ],
      "text/plain": [
       "                                date\n",
       "count                           5005\n",
       "mean   2017-02-06 19:47:57.842157824\n",
       "min              2010-08-28 00:00:00\n",
       "25%              2013-10-31 00:00:00\n",
       "50%              2017-02-17 00:00:00\n",
       "75%              2020-07-02 00:00:00\n",
       "max              2023-09-03 00:00:00"
      ]
     },
     "execution_count": 40,
     "metadata": {},
     "output_type": "execute_result"
    }
   ],
   "source": [
    "match_general_info.describe(include=['datetime'], datetime_is_numeric=True)"
   ]
  },
  {
   "cell_type": "code",
   "execution_count": 41,
   "metadata": {},
   "outputs": [
    {
     "data": {
      "text/plain": [
       "Sun    2009\n",
       "Sat    1762\n",
       "Mon     345\n",
       "Fri     337\n",
       "Wed     259\n",
       "Thu     150\n",
       "Tue     143\n",
       "Name: day, dtype: int64"
      ]
     },
     "execution_count": 41,
     "metadata": {},
     "output_type": "execute_result"
    }
   ],
   "source": [
    "match_general_info['day'].value_counts(dropna=False)"
   ]
  },
  {
   "cell_type": "code",
   "execution_count": 42,
   "metadata": {},
   "outputs": [
    {
     "data": {
      "text/plain": [
       "2011-05-21    15\n",
       "2021-04-21    12\n",
       "2011-05-15    10\n",
       "2023-06-04    10\n",
       "2012-05-05    10\n",
       "              ..\n",
       "2021-09-27     1\n",
       "2021-10-01     1\n",
       "2013-02-11     1\n",
       "2014-10-17     1\n",
       "2016-01-04     1\n",
       "Name: date, Length: 1659, dtype: int64"
      ]
     },
     "execution_count": 42,
     "metadata": {},
     "output_type": "execute_result"
    }
   ],
   "source": [
    "match_general_info['date'].value_counts(dropna=False)"
   ]
  },
  {
   "cell_type": "code",
   "execution_count": 43,
   "metadata": {},
   "outputs": [
    {
     "data": {
      "text/plain": [
       "21:00:00    820\n",
       "18:30:00    496\n",
       "22:00:00    412\n",
       "20:00:00    373\n",
       "16:15:00    356\n",
       "20:45:00    283\n",
       "12:00:00    278\n",
       "18:00:00    274\n",
       "16:00:00    270\n",
       "19:00:00    241\n",
       "17:00:00    240\n",
       "14:00:00    203\n",
       "20:30:00    140\n",
       "21:30:00    130\n",
       "19:30:00    130\n",
       "13:00:00    115\n",
       "18:15:00     94\n",
       "22:05:00     29\n",
       "19:45:00     19\n",
       "22:15:00     18\n",
       "20:15:00     18\n",
       "23:00:00     16\n",
       "17:30:00     13\n",
       "22:30:00      7\n",
       "19:50:00      7\n",
       "19:15:00      6\n",
       "17:50:00      4\n",
       "21:15:00      4\n",
       "18:45:00      3\n",
       "16:45:00      3\n",
       "16:30:00      1\n",
       "21:45:00      1\n",
       "00:00:00      1\n",
       "Name: starttime, dtype: int64"
      ]
     },
     "execution_count": 43,
     "metadata": {},
     "output_type": "execute_result"
    }
   ],
   "source": [
    "match_general_info['starttime'].value_counts(dropna=False)"
   ]
  },
  {
   "cell_type": "code",
   "execution_count": 44,
   "metadata": {},
   "outputs": [
    {
     "data": {
      "text/plain": [
       "Ramón Sánchez-Pizjuán                251\n",
       "Mestalla                             250\n",
       "San Mamés                            249\n",
       "Spotify Camp Nou                     248\n",
       "Coliseum Alfonso Pérez               231\n",
       "La Cerámica                          229\n",
       "RCDE Stadium                         229\n",
       "Santiago Bernabéu                    224\n",
       "Abanca Balaídos                      211\n",
       "Ciutat de València                   208\n",
       "El Sadar                             175\n",
       "Nuevo Los Cármenes                   173\n",
       "Anoeta                               173\n",
       "Benito Villamarín                    156\n",
       "Campo de Fútbol de Vallecas          154\n",
       "La Rosaleda                          153\n",
       "Vicente Calderón                     133\n",
       "Ipurua                               132\n",
       "Mallorca Son Moix                    117\n",
       "Mendizorroza                         117\n",
       "Nuevo José Zorrilla                  115\n",
       "Civitas Metropolitano                115\n",
       "Abanca Riazor                        114\n",
       "Manuel Martínez Valero                97\n",
       "Reale Arena                           80\n",
       "Power Horse Stadium                   79\n",
       "Butarque                              76\n",
       "El Molinón - Enrique Castro Quini     76\n",
       "Nuevo Mirandilla                      61\n",
       "Montilivi                             59\n",
       "Estadio de Gran Canaria               59\n",
       "Estadio de La Cartuja                 57\n",
       "La Romareda                           57\n",
       "El Alcoraz                            39\n",
       "El Sardinero                          38\n",
       "José Rico Pérez                       20\n",
       "Nuevo Arcángel                        19\n",
       "Estadio Alfredo Di Stéfano            18\n",
       "Alfredo Di Stéfano                     8\n",
       "Ciudad Deportiva de Buñol              4\n",
       "Olímpic Lluís Companys                 1\n",
       "Name: stadium, dtype: int64"
      ]
     },
     "execution_count": 44,
     "metadata": {},
     "output_type": "execute_result"
    }
   ],
   "source": [
    "match_general_info['stadium'].value_counts(dropna=False)"
   ]
  },
  {
   "cell_type": "code",
   "execution_count": 45,
   "metadata": {},
   "outputs": [
    {
     "data": {
      "text/plain": [
       "Mateu Lahoz                       253\n",
       "Carlos del Cerro Grande           238\n",
       "Estrada Fernández                 219\n",
       "Jesús Gil Manzano                 217\n",
       "González González                 202\n",
       "Alejandro Hernández Hernández     201\n",
       "Juan Martínez Munuera             183\n",
       "Undiano Mallenco                  178\n",
       "Iglesias Villanueva               175\n",
       "José María Sánchez Martínez       164\n",
       "Mario Melero López                161\n",
       "De Burgos Bengoetxea              159\n",
       "Álvarez Izquierdo                 151\n",
       "Santiago Jaime Latre              150\n",
       "Carlos Clos Gómez                 146\n",
       "David Fernández Borbalán          143\n",
       "José Luis Munuera Montero         136\n",
       "Pablo González Fuertes            121\n",
       "Javier Alberola Rojas             116\n",
       "Carlos Velasco Carballo           110\n",
       "Fernando Teixeira Vitienes        100\n",
       "Eduardo Prieto Iglesias            96\n",
       "José Antonio Teixeira Vitienes     96\n",
       "Guillermo Cuadra Fernández         94\n",
       "Pedro Jesús Pérez Montero          89\n",
       "César Soto Grado                   84\n",
       "César Muñiz Fernández              82\n",
       "Adrián Cordero Vega                77\n",
       "Miguel Ángel Ayza Gámez            73\n",
       "Valentin Pizarro Gomez             72\n",
       "Medié Jiménez                      70\n",
       "Carlos Delgado Ferreiro            63\n",
       "Isidro Díaz de Mera Escuderos      60\n",
       "Iñaki Bikandi Garrido              59\n",
       "Jorge Figueroa Vázquez             58\n",
       "Miguel Ángel Pérez Lasa            55\n",
       "José Luis Paradas Romero           44\n",
       "Javier Turienzo Álvarez            43\n",
       "Alejandro Muñiz Ruiz               40\n",
       "Miguel Ángel Ortiz Arias           37\n",
       "Daniel Jesús Trujillo Suárez       36\n",
       "Eduardo Iturralde González         29\n",
       "Javier Iglesias Villanueva         25\n",
       "Juan Luis Pulido Santana           24\n",
       "Rafael Ramírez Domínguez           21\n",
       "Daniel Ocón Arráiz                 17\n",
       "Antonio Rubinos Pérez              15\n",
       "Andrés Hernández                    9\n",
       "None                                4\n",
       "Miguel López López                  2\n",
       "Francisco José Hernández Maeso      2\n",
       "Víctor García Verdura               2\n",
       "Ángel Álvarez Pinardo               1\n",
       "José González Echeverría            1\n",
       "Mateo Busquets Ferrer               1\n",
       "Vicente José Lizondo Cortés         1\n",
       "Name: referee, dtype: int64"
      ]
     },
     "execution_count": 45,
     "metadata": {},
     "output_type": "execute_result"
    }
   ],
   "source": [
    "match_general_info['referee'].value_counts(dropna=False)"
   ]
  },
  {
   "cell_type": "markdown",
   "metadata": {},
   "source": [
    "##### - numerical data\n"
   ]
  },
  {
   "cell_type": "code",
   "execution_count": 46,
   "metadata": {},
   "outputs": [
    {
     "data": {
      "text/html": [
       "<div>\n",
       "<style scoped>\n",
       "    .dataframe tbody tr th:only-of-type {\n",
       "        vertical-align: middle;\n",
       "    }\n",
       "\n",
       "    .dataframe tbody tr th {\n",
       "        vertical-align: top;\n",
       "    }\n",
       "\n",
       "    .dataframe thead th {\n",
       "        text-align: right;\n",
       "    }\n",
       "</style>\n",
       "<table border=\"1\" class=\"dataframe\">\n",
       "  <thead>\n",
       "    <tr style=\"text-align: right;\">\n",
       "      <th></th>\n",
       "      <th>attendance</th>\n",
       "      <th>home_score</th>\n",
       "      <th>away_score</th>\n",
       "    </tr>\n",
       "  </thead>\n",
       "  <tbody>\n",
       "    <tr>\n",
       "      <th>count</th>\n",
       "      <td>5005.000000</td>\n",
       "      <td>5005.000000</td>\n",
       "      <td>5005.000000</td>\n",
       "    </tr>\n",
       "    <tr>\n",
       "      <th>mean</th>\n",
       "      <td>24817.906294</td>\n",
       "      <td>1.545854</td>\n",
       "      <td>1.125475</td>\n",
       "    </tr>\n",
       "    <tr>\n",
       "      <th>std</th>\n",
       "      <td>19670.515497</td>\n",
       "      <td>1.338324</td>\n",
       "      <td>1.137895</td>\n",
       "    </tr>\n",
       "    <tr>\n",
       "      <th>min</th>\n",
       "      <td>0.000000</td>\n",
       "      <td>0.000000</td>\n",
       "      <td>0.000000</td>\n",
       "    </tr>\n",
       "    <tr>\n",
       "      <th>25%</th>\n",
       "      <td>12100.000000</td>\n",
       "      <td>1.000000</td>\n",
       "      <td>0.000000</td>\n",
       "    </tr>\n",
       "    <tr>\n",
       "      <th>50%</th>\n",
       "      <td>19270.000000</td>\n",
       "      <td>1.000000</td>\n",
       "      <td>1.000000</td>\n",
       "    </tr>\n",
       "    <tr>\n",
       "      <th>75%</th>\n",
       "      <td>34711.000000</td>\n",
       "      <td>2.000000</td>\n",
       "      <td>2.000000</td>\n",
       "    </tr>\n",
       "    <tr>\n",
       "      <th>max</th>\n",
       "      <td>99354.000000</td>\n",
       "      <td>10.000000</td>\n",
       "      <td>8.000000</td>\n",
       "    </tr>\n",
       "  </tbody>\n",
       "</table>\n",
       "</div>"
      ],
      "text/plain": [
       "         attendance   home_score   away_score\n",
       "count   5005.000000  5005.000000  5005.000000\n",
       "mean   24817.906294     1.545854     1.125475\n",
       "std    19670.515497     1.338324     1.137895\n",
       "min        0.000000     0.000000     0.000000\n",
       "25%    12100.000000     1.000000     0.000000\n",
       "50%    19270.000000     1.000000     1.000000\n",
       "75%    34711.000000     2.000000     2.000000\n",
       "max    99354.000000    10.000000     8.000000"
      ]
     },
     "execution_count": 46,
     "metadata": {},
     "output_type": "execute_result"
    }
   ],
   "source": [
    "match_general_info.describe()"
   ]
  }
 ],
 "metadata": {
  "kernelspec": {
   "display_name": "base",
   "language": "python",
   "name": "python3"
  },
  "language_info": {
   "codemirror_mode": {
    "name": "ipython",
    "version": 3
   },
   "file_extension": ".py",
   "mimetype": "text/x-python",
   "name": "python",
   "nbconvert_exporter": "python",
   "pygments_lexer": "ipython3",
   "version": "3.9.12"
  },
  "orig_nbformat": 4
 },
 "nbformat": 4,
 "nbformat_minor": 2
}
