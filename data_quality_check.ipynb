{
 "cells": [
  {
   "cell_type": "markdown",
   "metadata": {},
   "source": [
    "### Import packages"
   ]
  },
  {
   "cell_type": "code",
   "execution_count": 710,
   "metadata": {},
   "outputs": [],
   "source": [
    "import pandas as pd\n",
    "import matplotlib.pyplot as plt\n",
    "from datetime import datetime\n",
    "import os\n",
    "import math"
   ]
  },
  {
   "cell_type": "markdown",
   "metadata": {},
   "source": [
    "### Load data"
   ]
  },
  {
   "cell_type": "code",
   "execution_count": 711,
   "metadata": {},
   "outputs": [],
   "source": [
    "path = '/Users/jooyong/github_locals/Soccer_Player_Recommendation_Service/data/match_details(from_Transfermarket)/Premier_league_match_details/'\n",
    "file_list = os.listdir(path)\n",
    "\n",
    "Premier_matches = pd.DataFrame()\n",
    "for file in file_list:\n",
    "\n",
    "    filepath = path + file\n",
    "    Premier_matches = pd.concat([Premier_matches, pd.read_json(filepath, lines=True)], axis=0)"
   ]
  },
  {
   "cell_type": "code",
   "execution_count": 712,
   "metadata": {},
   "outputs": [
    {
     "data": {
      "text/html": [
       "<div>\n",
       "<style scoped>\n",
       "    .dataframe tbody tr th:only-of-type {\n",
       "        vertical-align: middle;\n",
       "    }\n",
       "\n",
       "    .dataframe tbody tr th {\n",
       "        vertical-align: top;\n",
       "    }\n",
       "\n",
       "    .dataframe thead th {\n",
       "        text-align: right;\n",
       "    }\n",
       "</style>\n",
       "<table border=\"1\" class=\"dataframe\">\n",
       "  <thead>\n",
       "    <tr style=\"text-align: right;\">\n",
       "      <th></th>\n",
       "      <th>match_general_info</th>\n",
       "      <th>team_details</th>\n",
       "      <th>event_details</th>\n",
       "    </tr>\n",
       "  </thead>\n",
       "  <tbody>\n",
       "    <tr>\n",
       "      <th>0</th>\n",
       "      <td>{'day': 'Sat', 'date': '8/14/10', 'starttime':...</td>\n",
       "      <td>{'home': {'name': 'Tottenham Hotspur', 'rank':...</td>\n",
       "      <td>{'home': {'sub': [{'subs_in': 'Robbie Keane', ...</td>\n",
       "    </tr>\n",
       "    <tr>\n",
       "      <th>1</th>\n",
       "      <td>{'day': 'Sat', 'date': '8/14/10', 'starttime':...</td>\n",
       "      <td>{'home': {'name': 'Aston Villa', 'rank': '3', ...</td>\n",
       "      <td>{'home': {'goal': [{'scorer': 'Stewart Downing...</td>\n",
       "    </tr>\n",
       "    <tr>\n",
       "      <th>2</th>\n",
       "      <td>{'day': 'Sat', 'date': '8/14/10', 'starttime':...</td>\n",
       "      <td>{'home': {'name': 'Blackburn Rovers', 'rank': ...</td>\n",
       "      <td>{'home': {'goal': [{'scorer': 'Nikola Kalinic'...</td>\n",
       "    </tr>\n",
       "    <tr>\n",
       "      <th>3</th>\n",
       "      <td>{'day': 'Sat', 'date': '8/14/10', 'starttime':...</td>\n",
       "      <td>{'home': {'name': 'Bolton Wanderers', 'rank': ...</td>\n",
       "      <td>{'home': {'card': [{'name': 'Fabrice Muamba', ...</td>\n",
       "    </tr>\n",
       "    <tr>\n",
       "      <th>4</th>\n",
       "      <td>{'day': 'Sat', 'date': '8/14/10', 'starttime':...</td>\n",
       "      <td>{'home': {'name': 'Sunderland AFC', 'rank': '7...</td>\n",
       "      <td>{'home': {'goal': [{'scorer': 'Darren Bent', '...</td>\n",
       "    </tr>\n",
       "  </tbody>\n",
       "</table>\n",
       "</div>"
      ],
      "text/plain": [
       "                                  match_general_info  \\\n",
       "0  {'day': 'Sat', 'date': '8/14/10', 'starttime':...   \n",
       "1  {'day': 'Sat', 'date': '8/14/10', 'starttime':...   \n",
       "2  {'day': 'Sat', 'date': '8/14/10', 'starttime':...   \n",
       "3  {'day': 'Sat', 'date': '8/14/10', 'starttime':...   \n",
       "4  {'day': 'Sat', 'date': '8/14/10', 'starttime':...   \n",
       "\n",
       "                                        team_details  \\\n",
       "0  {'home': {'name': 'Tottenham Hotspur', 'rank':...   \n",
       "1  {'home': {'name': 'Aston Villa', 'rank': '3', ...   \n",
       "2  {'home': {'name': 'Blackburn Rovers', 'rank': ...   \n",
       "3  {'home': {'name': 'Bolton Wanderers', 'rank': ...   \n",
       "4  {'home': {'name': 'Sunderland AFC', 'rank': '7...   \n",
       "\n",
       "                                       event_details  \n",
       "0  {'home': {'sub': [{'subs_in': 'Robbie Keane', ...  \n",
       "1  {'home': {'goal': [{'scorer': 'Stewart Downing...  \n",
       "2  {'home': {'goal': [{'scorer': 'Nikola Kalinic'...  \n",
       "3  {'home': {'card': [{'name': 'Fabrice Muamba', ...  \n",
       "4  {'home': {'goal': [{'scorer': 'Darren Bent', '...  "
      ]
     },
     "execution_count": 712,
     "metadata": {},
     "output_type": "execute_result"
    }
   ],
   "source": [
    "Premier_matches.head(5)"
   ]
  },
  {
   "cell_type": "code",
   "execution_count": 713,
   "metadata": {},
   "outputs": [
    {
     "name": "stdout",
     "output_type": "stream",
     "text": [
      "number of matches from season 2010-2011: 4975\n"
     ]
    }
   ],
   "source": [
    "print('number of matches from season 2010-2011:', len(Premier_matches))"
   ]
  },
  {
   "cell_type": "markdown",
   "metadata": {},
   "source": [
    "### Match general information analysis\n",
    "#### 1. Observe initial form - Null value check"
   ]
  },
  {
   "cell_type": "code",
   "execution_count": 714,
   "metadata": {},
   "outputs": [],
   "source": [
    "match_general_info = pd.DataFrame(Premier_matches['match_general_info'].to_list())"
   ]
  },
  {
   "cell_type": "code",
   "execution_count": 715,
   "metadata": {},
   "outputs": [
    {
     "data": {
      "text/html": [
       "<div>\n",
       "<style scoped>\n",
       "    .dataframe tbody tr th:only-of-type {\n",
       "        vertical-align: middle;\n",
       "    }\n",
       "\n",
       "    .dataframe tbody tr th {\n",
       "        vertical-align: top;\n",
       "    }\n",
       "\n",
       "    .dataframe thead th {\n",
       "        text-align: right;\n",
       "    }\n",
       "</style>\n",
       "<table border=\"1\" class=\"dataframe\">\n",
       "  <thead>\n",
       "    <tr style=\"text-align: right;\">\n",
       "      <th></th>\n",
       "      <th>day</th>\n",
       "      <th>date</th>\n",
       "      <th>starttime</th>\n",
       "      <th>stadium</th>\n",
       "      <th>attendance</th>\n",
       "      <th>referee</th>\n",
       "      <th>score</th>\n",
       "    </tr>\n",
       "  </thead>\n",
       "  <tbody>\n",
       "    <tr>\n",
       "      <th>0</th>\n",
       "      <td>Sat</td>\n",
       "      <td>8/14/10</td>\n",
       "      <td>1:45 PM</td>\n",
       "      <td>White Hart Lane</td>\n",
       "      <td>35.928</td>\n",
       "      <td>Andre Marriner</td>\n",
       "      <td>0:0</td>\n",
       "    </tr>\n",
       "    <tr>\n",
       "      <th>1</th>\n",
       "      <td>Sat</td>\n",
       "      <td>8/14/10</td>\n",
       "      <td>4:00 PM</td>\n",
       "      <td>Villa Park</td>\n",
       "      <td>36.604</td>\n",
       "      <td>Mike Dean</td>\n",
       "      <td>3:0</td>\n",
       "    </tr>\n",
       "    <tr>\n",
       "      <th>2</th>\n",
       "      <td>Sat</td>\n",
       "      <td>8/14/10</td>\n",
       "      <td>4:00 PM</td>\n",
       "      <td>Ewood Park</td>\n",
       "      <td>25.869</td>\n",
       "      <td>Phil Dowd</td>\n",
       "      <td>1:0</td>\n",
       "    </tr>\n",
       "    <tr>\n",
       "      <th>3</th>\n",
       "      <td>Sat</td>\n",
       "      <td>8/14/10</td>\n",
       "      <td>4:00 PM</td>\n",
       "      <td>University of Bolton Stadium</td>\n",
       "      <td>20.352</td>\n",
       "      <td>Stuart Attwell</td>\n",
       "      <td>0:0</td>\n",
       "    </tr>\n",
       "    <tr>\n",
       "      <th>4</th>\n",
       "      <td>Sat</td>\n",
       "      <td>8/14/10</td>\n",
       "      <td>4:00 PM</td>\n",
       "      <td>Stadium of Light</td>\n",
       "      <td>38.390</td>\n",
       "      <td>Anthony Taylor</td>\n",
       "      <td>2:2</td>\n",
       "    </tr>\n",
       "  </tbody>\n",
       "</table>\n",
       "</div>"
      ],
      "text/plain": [
       "   day     date starttime                       stadium attendance  \\\n",
       "0  Sat  8/14/10   1:45 PM               White Hart Lane     35.928   \n",
       "1  Sat  8/14/10   4:00 PM                    Villa Park     36.604   \n",
       "2  Sat  8/14/10   4:00 PM                    Ewood Park     25.869   \n",
       "3  Sat  8/14/10   4:00 PM  University of Bolton Stadium     20.352   \n",
       "4  Sat  8/14/10   4:00 PM              Stadium of Light     38.390   \n",
       "\n",
       "          referee score  \n",
       "0  Andre Marriner   0:0  \n",
       "1       Mike Dean   3:0  \n",
       "2       Phil Dowd   1:0  \n",
       "3  Stuart Attwell   0:0  \n",
       "4  Anthony Taylor   2:2  "
      ]
     },
     "execution_count": 715,
     "metadata": {},
     "output_type": "execute_result"
    }
   ],
   "source": [
    "match_general_info.head(5)"
   ]
  },
  {
   "cell_type": "code",
   "execution_count": 716,
   "metadata": {},
   "outputs": [
    {
     "name": "stdout",
     "output_type": "stream",
     "text": [
      "day 0\n",
      "date 0\n",
      "starttime 0\n",
      "stadium 0\n",
      "attendance 458\n",
      "referee 0\n",
      "score 0\n"
     ]
    }
   ],
   "source": [
    "for column in match_general_info.columns:\n",
    "\n",
    "    print(column, match_general_info[column].isnull().sum())\n"
   ]
  },
  {
   "cell_type": "markdown",
   "metadata": {},
   "source": [
    "Attendance data need to be observed after string type date to datetype date to check why there are many null values."
   ]
  },
  {
   "cell_type": "markdown",
   "metadata": {},
   "source": [
    "#### 2. Data pre-processing"
   ]
  },
  {
   "cell_type": "code",
   "execution_count": 717,
   "metadata": {},
   "outputs": [],
   "source": [
    "# match_general_info['attendance'] = match_general_info['attendance'].apply(lambda x: x.replace('.', ''))\n",
    "# match_general_info['attendance'] = pd.to_numeric(match_general_info['attendance'])\n",
    "\n",
    "def home_score(row):\n",
    "    try:\n",
    "        temp = row.split(':')\n",
    "        home = int(temp[0])\n",
    "    except:\n",
    "        home = row\n",
    "    return home\n",
    "def away_score(row):\n",
    "    try:\n",
    "        temp = row.split(':')\n",
    "        away = int(temp[1])\n",
    "    except:\n",
    "        away = row\n",
    "    return away\n",
    "\n",
    "match_general_info['home_score'] = match_general_info['score'].apply(lambda x: home_score(x))\n",
    "match_general_info['away_score'] = match_general_info['score'].apply(lambda x: away_score(x))\n",
    "\n",
    "match_general_info['date'] = pd.to_datetime(match_general_info['date'])\n",
    "match_general_info['starttime'] = pd.to_datetime(match_general_info['starttime']).apply(lambda x: datetime.time(x))"
   ]
  },
  {
   "cell_type": "code",
   "execution_count": 718,
   "metadata": {},
   "outputs": [
    {
     "data": {
      "text/html": [
       "<div>\n",
       "<style scoped>\n",
       "    .dataframe tbody tr th:only-of-type {\n",
       "        vertical-align: middle;\n",
       "    }\n",
       "\n",
       "    .dataframe tbody tr th {\n",
       "        vertical-align: top;\n",
       "    }\n",
       "\n",
       "    .dataframe thead th {\n",
       "        text-align: right;\n",
       "    }\n",
       "</style>\n",
       "<table border=\"1\" class=\"dataframe\">\n",
       "  <thead>\n",
       "    <tr style=\"text-align: right;\">\n",
       "      <th></th>\n",
       "      <th>day</th>\n",
       "      <th>date</th>\n",
       "      <th>starttime</th>\n",
       "      <th>stadium</th>\n",
       "      <th>attendance</th>\n",
       "      <th>referee</th>\n",
       "      <th>score</th>\n",
       "      <th>home_score</th>\n",
       "      <th>away_score</th>\n",
       "    </tr>\n",
       "  </thead>\n",
       "  <tbody>\n",
       "    <tr>\n",
       "      <th>0</th>\n",
       "      <td>Sat</td>\n",
       "      <td>2010-08-14</td>\n",
       "      <td>13:45:00</td>\n",
       "      <td>White Hart Lane</td>\n",
       "      <td>35.928</td>\n",
       "      <td>Andre Marriner</td>\n",
       "      <td>0:0</td>\n",
       "      <td>0</td>\n",
       "      <td>0</td>\n",
       "    </tr>\n",
       "    <tr>\n",
       "      <th>1</th>\n",
       "      <td>Sat</td>\n",
       "      <td>2010-08-14</td>\n",
       "      <td>16:00:00</td>\n",
       "      <td>Villa Park</td>\n",
       "      <td>36.604</td>\n",
       "      <td>Mike Dean</td>\n",
       "      <td>3:0</td>\n",
       "      <td>3</td>\n",
       "      <td>0</td>\n",
       "    </tr>\n",
       "    <tr>\n",
       "      <th>2</th>\n",
       "      <td>Sat</td>\n",
       "      <td>2010-08-14</td>\n",
       "      <td>16:00:00</td>\n",
       "      <td>Ewood Park</td>\n",
       "      <td>25.869</td>\n",
       "      <td>Phil Dowd</td>\n",
       "      <td>1:0</td>\n",
       "      <td>1</td>\n",
       "      <td>0</td>\n",
       "    </tr>\n",
       "    <tr>\n",
       "      <th>3</th>\n",
       "      <td>Sat</td>\n",
       "      <td>2010-08-14</td>\n",
       "      <td>16:00:00</td>\n",
       "      <td>University of Bolton Stadium</td>\n",
       "      <td>20.352</td>\n",
       "      <td>Stuart Attwell</td>\n",
       "      <td>0:0</td>\n",
       "      <td>0</td>\n",
       "      <td>0</td>\n",
       "    </tr>\n",
       "    <tr>\n",
       "      <th>4</th>\n",
       "      <td>Sat</td>\n",
       "      <td>2010-08-14</td>\n",
       "      <td>16:00:00</td>\n",
       "      <td>Stadium of Light</td>\n",
       "      <td>38.390</td>\n",
       "      <td>Anthony Taylor</td>\n",
       "      <td>2:2</td>\n",
       "      <td>2</td>\n",
       "      <td>2</td>\n",
       "    </tr>\n",
       "  </tbody>\n",
       "</table>\n",
       "</div>"
      ],
      "text/plain": [
       "   day       date starttime                       stadium attendance  \\\n",
       "0  Sat 2010-08-14  13:45:00               White Hart Lane     35.928   \n",
       "1  Sat 2010-08-14  16:00:00                    Villa Park     36.604   \n",
       "2  Sat 2010-08-14  16:00:00                    Ewood Park     25.869   \n",
       "3  Sat 2010-08-14  16:00:00  University of Bolton Stadium     20.352   \n",
       "4  Sat 2010-08-14  16:00:00              Stadium of Light     38.390   \n",
       "\n",
       "          referee score  home_score  away_score  \n",
       "0  Andre Marriner   0:0           0           0  \n",
       "1       Mike Dean   3:0           3           0  \n",
       "2       Phil Dowd   1:0           1           0  \n",
       "3  Stuart Attwell   0:0           0           0  \n",
       "4  Anthony Taylor   2:2           2           2  "
      ]
     },
     "execution_count": 718,
     "metadata": {},
     "output_type": "execute_result"
    }
   ],
   "source": [
    "match_general_info.head(5)"
   ]
  },
  {
   "cell_type": "code",
   "execution_count": 719,
   "metadata": {},
   "outputs": [
    {
     "data": {
      "text/html": [
       "<div>\n",
       "<style scoped>\n",
       "    .dataframe tbody tr th:only-of-type {\n",
       "        vertical-align: middle;\n",
       "    }\n",
       "\n",
       "    .dataframe tbody tr th {\n",
       "        vertical-align: top;\n",
       "    }\n",
       "\n",
       "    .dataframe thead th {\n",
       "        text-align: right;\n",
       "    }\n",
       "</style>\n",
       "<table border=\"1\" class=\"dataframe\">\n",
       "  <thead>\n",
       "    <tr style=\"text-align: right;\">\n",
       "      <th></th>\n",
       "      <th>day</th>\n",
       "      <th>date</th>\n",
       "      <th>starttime</th>\n",
       "      <th>stadium</th>\n",
       "      <th>attendance</th>\n",
       "      <th>referee</th>\n",
       "      <th>score</th>\n",
       "      <th>home_score</th>\n",
       "      <th>away_score</th>\n",
       "    </tr>\n",
       "  </thead>\n",
       "  <tbody>\n",
       "    <tr>\n",
       "      <th>3697</th>\n",
       "      <td>Wed</td>\n",
       "      <td>2020-06-17</td>\n",
       "      <td>19:00:00</td>\n",
       "      <td>Villa Park</td>\n",
       "      <td>None</td>\n",
       "      <td>Michael Oliver</td>\n",
       "      <td>0:0</td>\n",
       "      <td>0</td>\n",
       "      <td>0</td>\n",
       "    </tr>\n",
       "    <tr>\n",
       "      <th>3698</th>\n",
       "      <td>Wed</td>\n",
       "      <td>2020-06-17</td>\n",
       "      <td>21:15:00</td>\n",
       "      <td>Etihad Stadium</td>\n",
       "      <td>None</td>\n",
       "      <td>Anthony Taylor</td>\n",
       "      <td>3:0</td>\n",
       "      <td>3</td>\n",
       "      <td>0</td>\n",
       "    </tr>\n",
       "    <tr>\n",
       "      <th>3709</th>\n",
       "      <td>Fri</td>\n",
       "      <td>2020-06-19</td>\n",
       "      <td>19:00:00</td>\n",
       "      <td>Carrow Road</td>\n",
       "      <td>None</td>\n",
       "      <td>Kevin Friend</td>\n",
       "      <td>0:3</td>\n",
       "      <td>0</td>\n",
       "      <td>3</td>\n",
       "    </tr>\n",
       "    <tr>\n",
       "      <th>3710</th>\n",
       "      <td>Fri</td>\n",
       "      <td>2020-06-19</td>\n",
       "      <td>21:15:00</td>\n",
       "      <td>Tottenham Hotspur Stadium</td>\n",
       "      <td>None</td>\n",
       "      <td>Jonathan Moss</td>\n",
       "      <td>1:1</td>\n",
       "      <td>1</td>\n",
       "      <td>1</td>\n",
       "    </tr>\n",
       "    <tr>\n",
       "      <th>3711</th>\n",
       "      <td>Sat</td>\n",
       "      <td>2020-06-20</td>\n",
       "      <td>13:30:00</td>\n",
       "      <td>Vicarage Road</td>\n",
       "      <td>None</td>\n",
       "      <td>Craig Pawson</td>\n",
       "      <td>1:1</td>\n",
       "      <td>1</td>\n",
       "      <td>1</td>\n",
       "    </tr>\n",
       "    <tr>\n",
       "      <th>...</th>\n",
       "      <td>...</td>\n",
       "      <td>...</td>\n",
       "      <td>...</td>\n",
       "      <td>...</td>\n",
       "      <td>...</td>\n",
       "      <td>...</td>\n",
       "      <td>...</td>\n",
       "      <td>...</td>\n",
       "      <td>...</td>\n",
       "    </tr>\n",
       "    <tr>\n",
       "      <th>4536</th>\n",
       "      <td>Sun</td>\n",
       "      <td>2022-05-08</td>\n",
       "      <td>15:00:00</td>\n",
       "      <td>Carrow Road</td>\n",
       "      <td>None</td>\n",
       "      <td>Robert Jones</td>\n",
       "      <td>0:4</td>\n",
       "      <td>0</td>\n",
       "      <td>4</td>\n",
       "    </tr>\n",
       "    <tr>\n",
       "      <th>4965</th>\n",
       "      <td>Fri</td>\n",
       "      <td>2023-09-01</td>\n",
       "      <td>21:00:00</td>\n",
       "      <td>Kenilworth Road</td>\n",
       "      <td>None</td>\n",
       "      <td>Paul Tierney</td>\n",
       "      <td>1:2</td>\n",
       "      <td>1</td>\n",
       "      <td>2</td>\n",
       "    </tr>\n",
       "    <tr>\n",
       "      <th>4971</th>\n",
       "      <td>Sat</td>\n",
       "      <td>2023-09-02</td>\n",
       "      <td>18:30:00</td>\n",
       "      <td>AMEX Stadium</td>\n",
       "      <td>None</td>\n",
       "      <td>Stuart Attwell</td>\n",
       "      <td>3:1</td>\n",
       "      <td>3</td>\n",
       "      <td>1</td>\n",
       "    </tr>\n",
       "    <tr>\n",
       "      <th>4972</th>\n",
       "      <td>Sun</td>\n",
       "      <td>2023-09-03</td>\n",
       "      <td>15:00:00</td>\n",
       "      <td>Selhurst Park</td>\n",
       "      <td>None</td>\n",
       "      <td>Robert Jones</td>\n",
       "      <td>3:2</td>\n",
       "      <td>3</td>\n",
       "      <td>2</td>\n",
       "    </tr>\n",
       "    <tr>\n",
       "      <th>4973</th>\n",
       "      <td>Sun</td>\n",
       "      <td>2023-09-03</td>\n",
       "      <td>15:00:00</td>\n",
       "      <td>Anfield</td>\n",
       "      <td>None</td>\n",
       "      <td>Simon Hooper</td>\n",
       "      <td>3:0</td>\n",
       "      <td>3</td>\n",
       "      <td>0</td>\n",
       "    </tr>\n",
       "  </tbody>\n",
       "</table>\n",
       "<p>458 rows × 9 columns</p>\n",
       "</div>"
      ],
      "text/plain": [
       "      day       date starttime                    stadium attendance  \\\n",
       "3697  Wed 2020-06-17  19:00:00                 Villa Park       None   \n",
       "3698  Wed 2020-06-17  21:15:00             Etihad Stadium       None   \n",
       "3709  Fri 2020-06-19  19:00:00                Carrow Road       None   \n",
       "3710  Fri 2020-06-19  21:15:00  Tottenham Hotspur Stadium       None   \n",
       "3711  Sat 2020-06-20  13:30:00              Vicarage Road       None   \n",
       "...   ...        ...       ...                        ...        ...   \n",
       "4536  Sun 2022-05-08  15:00:00                Carrow Road       None   \n",
       "4965  Fri 2023-09-01  21:00:00            Kenilworth Road       None   \n",
       "4971  Sat 2023-09-02  18:30:00               AMEX Stadium       None   \n",
       "4972  Sun 2023-09-03  15:00:00              Selhurst Park       None   \n",
       "4973  Sun 2023-09-03  15:00:00                    Anfield       None   \n",
       "\n",
       "             referee score  home_score  away_score  \n",
       "3697  Michael Oliver   0:0           0           0  \n",
       "3698  Anthony Taylor   3:0           3           0  \n",
       "3709    Kevin Friend   0:3           0           3  \n",
       "3710   Jonathan Moss   1:1           1           1  \n",
       "3711    Craig Pawson   1:1           1           1  \n",
       "...              ...   ...         ...         ...  \n",
       "4536    Robert Jones   0:4           0           4  \n",
       "4965    Paul Tierney   1:2           1           2  \n",
       "4971  Stuart Attwell   3:1           3           1  \n",
       "4972    Robert Jones   3:2           3           2  \n",
       "4973    Simon Hooper   3:0           3           0  \n",
       "\n",
       "[458 rows x 9 columns]"
      ]
     },
     "execution_count": 719,
     "metadata": {},
     "output_type": "execute_result"
    }
   ],
   "source": [
    "# cases having null value for attendance\n",
    "match_general_info[match_general_info['attendance'].isnull()]"
   ]
  },
  {
   "cell_type": "code",
   "execution_count": 720,
   "metadata": {},
   "outputs": [
    {
     "data": {
      "image/png": "[encoded data removed]",
      "text/plain": [
       "<Figure size 640x480 with 1 Axes>"
      ]
     },
     "metadata": {},
     "output_type": "display_data"
    }
   ],
   "source": [
    "plt.hist(match_general_info[match_general_info['attendance'].isnull()]['date'])\n",
    "plt.xticks(rotation = 45)\n",
    "plt.show()"
   ]
  },
  {
   "cell_type": "markdown",
   "metadata": {},
   "source": [
    "Most of null cases for the attendance locate season 2020-2021, and it could be because of the pendemic. <br>\n",
    "There were many games with no attendance during the pendamic, so 0 will replace null values for attendance. <br>\n",
    "For other cases, average number of attendance for the stadium will replace null values."
   ]
  },
  {
   "cell_type": "code",
   "execution_count": 721,
   "metadata": {},
   "outputs": [],
   "source": [
    "match_general_info.loc[match_general_info['date']<='2021-07-01', 'attendance'] = match_general_info[match_general_info['date']<='2021-07-01']['attendance'].fillna('0')"
   ]
  },
  {
   "cell_type": "code",
   "execution_count": 722,
   "metadata": {},
   "outputs": [
    {
     "data": {
      "text/plain": [
       "4374    Gtech Community Stadium\n",
       "4404          St Mary's Stadium\n",
       "4413                Carrow Road\n",
       "4416                 Villa Park\n",
       "4431                 Villa Park\n",
       "4437                Elland Road\n",
       "4463          St Mary's Stadium\n",
       "4469           Molineux Stadium\n",
       "4490          St Mary's Stadium\n",
       "4506           Molineux Stadium\n",
       "4520          St Mary's Stadium\n",
       "4529                  Turf Moor\n",
       "4536                Carrow Road\n",
       "4965            Kenilworth Road\n",
       "4971               AMEX Stadium\n",
       "4972              Selhurst Park\n",
       "4973                    Anfield\n",
       "Name: stadium, dtype: object"
      ]
     },
     "execution_count": 722,
     "metadata": {},
     "output_type": "execute_result"
    }
   ],
   "source": [
    "match_general_info[match_general_info['attendance'].isnull()]['stadium']"
   ]
  },
  {
   "cell_type": "code",
   "execution_count": 723,
   "metadata": {},
   "outputs": [],
   "source": [
    "attendance_missing_index = match_general_info[match_general_info['attendance'].isnull()].index"
   ]
  },
  {
   "cell_type": "code",
   "execution_count": 724,
   "metadata": {},
   "outputs": [
    {
     "data": {
      "text/plain": [
       "Int64Index([4374, 4404, 4413, 4416, 4431, 4437, 4463, 4469, 4490, 4506, 4520,\n",
       "            4529, 4536, 4965, 4971, 4972, 4973],\n",
       "           dtype='int64')"
      ]
     },
     "execution_count": 724,
     "metadata": {},
     "output_type": "execute_result"
    }
   ],
   "source": [
    "attendance_missing_index"
   ]
  },
  {
   "cell_type": "code",
   "execution_count": 725,
   "metadata": {},
   "outputs": [],
   "source": [
    "for stadium in set(match_general_info[match_general_info['attendance'].isnull()]['stadium']):\n",
    "\n",
    "    average = pd.to_numeric(match_general_info[match_general_info['stadium']==stadium]['attendance'].dropna().apply(lambda x: x.replace('.', ''))).mean()\n",
    "    if math.isnan(average)!=True:\n",
    "        match_general_info.loc[match_general_info['stadium']==stadium,'attendance'] = match_general_info[match_general_info['stadium']==stadium]['attendance'].fillna(round(average))\n",
    "    \n",
    "    else:\n",
    "        # max capacity of Kenilworth Road stadium (nothing left after drop null value)\n",
    "        match_general_info.loc[match_general_info['stadium']==stadium,'attendance'] = match_general_info[match_general_info['stadium']==stadium]['attendance'].fillna(11500) "
   ]
  },
  {
   "cell_type": "code",
   "execution_count": 740,
   "metadata": {},
   "outputs": [
    {
     "name": "stdout",
     "output_type": "stream",
     "text": [
      "16997\n",
      "27062\n",
      "25608\n",
      "32140\n",
      "32140\n",
      "24212\n",
      "27062\n",
      "24425\n",
      "27062\n",
      "24425\n",
      "27062\n",
      "16721\n",
      "25608\n",
      "11500\n",
      "24500\n",
      "21872\n",
      "44070\n"
     ]
    }
   ],
   "source": [
    "for one_index in attendance_missing_index:\n",
    "    print(match_general_info.loc[one_index]['attendance'])"
   ]
  },
  {
   "cell_type": "code",
   "execution_count": 727,
   "metadata": {},
   "outputs": [
    {
     "data": {
      "text/plain": [
       "0"
      ]
     },
     "execution_count": 727,
     "metadata": {},
     "output_type": "execute_result"
    }
   ],
   "source": [
    "match_general_info['attendance'].isnull().sum()"
   ]
  },
  {
   "cell_type": "code",
   "execution_count": null,
   "metadata": {},
   "outputs": [],
   "source": []
  },
  {
   "cell_type": "markdown",
   "metadata": {},
   "source": [
    "#### 3. Data Quality Check - categorical data\n",
    "##### (1) Check if there are inappropriate values."
   ]
  },
  {
   "cell_type": "code",
   "execution_count": 728,
   "metadata": {},
   "outputs": [
    {
     "data": {
      "text/plain": [
       "Sat    2621\n",
       "Sun    1219\n",
       "Wed     390\n",
       "Mon     291\n",
       "Tue     265\n",
       "Thu      99\n",
       "Fri      90\n",
       "Name: day, dtype: int64"
      ]
     },
     "execution_count": 728,
     "metadata": {},
     "output_type": "execute_result"
    }
   ],
   "source": [
    "match_general_info['day'].value_counts(dropna=False)"
   ]
  },
  {
   "cell_type": "code",
   "execution_count": 729,
   "metadata": {},
   "outputs": [
    {
     "data": {
      "text/plain": [
       "2020-07-26    10\n",
       "2015-12-26    10\n",
       "2012-05-13    10\n",
       "2021-05-23    10\n",
       "2013-05-19    10\n",
       "              ..\n",
       "2015-12-14     1\n",
       "2018-08-10     1\n",
       "2020-12-30     1\n",
       "2013-03-03     1\n",
       "2013-09-15     1\n",
       "Name: date, Length: 1422, dtype: int64"
      ]
     },
     "execution_count": 729,
     "metadata": {},
     "output_type": "execute_result"
    }
   ],
   "source": [
    "match_general_info['date'].value_counts(dropna=False)"
   ]
  },
  {
   "cell_type": "code",
   "execution_count": 730,
   "metadata": {},
   "outputs": [
    {
     "data": {
      "text/plain": [
       "16:00:00    2086\n",
       "21:00:00     501\n",
       "18:30:00     393\n",
       "20:45:00     315\n",
       "17:00:00     299\n",
       "13:30:00     212\n",
       "14:30:00     209\n",
       "15:00:00     191\n",
       "17:30:00     170\n",
       "13:45:00     157\n",
       "13:00:00      79\n",
       "19:00:00      74\n",
       "21:15:00      66\n",
       "20:30:00      56\n",
       "15:05:00      45\n",
       "15:15:00      37\n",
       "20:15:00      19\n",
       "20:00:00      15\n",
       "17:15:00      14\n",
       "17:10:00      14\n",
       "16:05:00       6\n",
       "18:15:00       5\n",
       "14:00:00       3\n",
       "21:30:00       2\n",
       "18:00:00       1\n",
       "21:45:00       1\n",
       "14:35:00       1\n",
       "17:05:00       1\n",
       "15:30:00       1\n",
       "18:45:00       1\n",
       "13:05:00       1\n",
       "Name: starttime, dtype: int64"
      ]
     },
     "execution_count": 730,
     "metadata": {},
     "output_type": "execute_result"
    }
   ],
   "source": [
    "match_general_info['starttime'].value_counts(dropna=False)"
   ]
  },
  {
   "cell_type": "code",
   "execution_count": 731,
   "metadata": {},
   "outputs": [
    {
     "data": {
      "text/plain": [
       "Stamford Bridge                 250\n",
       "Old Trafford                    249\n",
       "Emirates Stadium                249\n",
       "Goodison Park                   249\n",
       "Anfield                         248\n",
       "Etihad Stadium                  247\n",
       "St James' Park                  230\n",
       "St Mary's Stadium               209\n",
       "Selhurst Park                   192\n",
       "Villa Park                      191\n",
       "King Power Stadium              171\n",
       "The Hawthorns                   171\n",
       "bet365 Stadium                  152\n",
       "Turf Moor                       136\n",
       "Craven Cottage                  134\n",
       "Molineux Stadium                134\n",
       "London Stadium                  134\n",
       "White Hart Lane                 133\n",
       "Swansea.com Stadium             133\n",
       "Stadium of Light                133\n",
       "AMEX Stadium                    117\n",
       "Vitality Stadium                116\n",
       "Vicarage Road                   114\n",
       "Carrow Road                     113\n",
       "Boleyn Ground                    95\n",
       "Tottenham Hotspur Stadium        82\n",
       "Loftus Road Stadium              57\n",
       "DW Stadium                       57\n",
       "MKM Stadium                      57\n",
       "Elland Road                      57\n",
       "Gtech Community Stadium          41\n",
       "Bramall Lane                     41\n",
       "Ewood Park                       38\n",
       "John Smith's Stadium             38\n",
       "Cardiff City Stadium             38\n",
       "University of Bolton Stadium     38\n",
       "Wembley Stadium                  33\n",
       "The City Ground                  20\n",
       "Bloomfield Road                  19\n",
       "Riverside Stadium                19\n",
       "Select Car Leasing Stadium       19\n",
       "St Andrew's                      19\n",
       "Maine Road                        1\n",
       "Kenilworth Road                   1\n",
       "Name: stadium, dtype: int64"
      ]
     },
     "execution_count": 731,
     "metadata": {},
     "output_type": "execute_result"
    }
   ],
   "source": [
    "match_general_info['stadium'].value_counts(dropna=False)"
   ]
  },
  {
   "cell_type": "code",
   "execution_count": 732,
   "metadata": {},
   "outputs": [
    {
     "data": {
      "text/plain": [
       "Michael Oliver       350\n",
       "Anthony Taylor       346\n",
       "Mike Dean            338\n",
       "Martin Atkinson      333\n",
       "Andre Marriner       305\n",
       "Jonathan Moss        274\n",
       "Kevin Friend         260\n",
       "Craig Pawson         230\n",
       "Lee Mason            228\n",
       "Mark Clattenburg     174\n",
       "Mike Jones           170\n",
       "Stuart Attwell       165\n",
       "Paul Tierney         159\n",
       "Lee Probert          136\n",
       "Neil Swarbrick       132\n",
       "Phil Dowd            131\n",
       "Chris Kavanagh       119\n",
       "Howard Webb          119\n",
       "Chris Foy            110\n",
       "Graham Scott         101\n",
       "Bobby Madley          94\n",
       "David Coote           92\n",
       "Roger East            90\n",
       "Simon Hooper          79\n",
       "Andrew Madley         73\n",
       "Peter Bankes          63\n",
       "Mark Halsey           60\n",
       "Robert Jones          52\n",
       "Darren England        46\n",
       "Peter Walton          42\n",
       "Jarred Gillett        27\n",
       "John Brooks           26\n",
       "Michael Salisbury     19\n",
       "Thomas Bramall         9\n",
       "Tony Harrington        9\n",
       "Darren Bond            5\n",
       "Tim Robinson           5\n",
       "Keith Stroud           3\n",
       "Josh Smith             1\n",
       "Name: referee, dtype: int64"
      ]
     },
     "execution_count": 732,
     "metadata": {},
     "output_type": "execute_result"
    }
   ],
   "source": [
    "match_general_info['referee'].value_counts(dropna=False)"
   ]
  },
  {
   "cell_type": "code",
   "execution_count": 733,
   "metadata": {},
   "outputs": [
    {
     "data": {
      "text/plain": [
       "1:1    531\n",
       "1:0    495\n",
       "2:1    407\n",
       "2:0    393\n",
       "0:0    354\n",
       "1:2    349\n",
       "0:1    344\n",
       "2:2    258\n",
       "3:1    235\n",
       "0:2    233\n",
       "3:0    217\n",
       "1:3    148\n",
       "0:3    141\n",
       "3:2    109\n",
       "2:3    106\n",
       "4:0    102\n",
       "4:1     85\n",
       "1:4     57\n",
       "3:3     53\n",
       "0:4     52\n",
       "5:0     46\n",
       "4:2     39\n",
       "5:1     27\n",
       "2:4     26\n",
       "4:3     22\n",
       "1:5     18\n",
       "0:5     17\n",
       "6:0     12\n",
       "5:2     11\n",
       "2:5     11\n",
       "6:1     11\n",
       "3:4     10\n",
       "1:6      6\n",
       "5:3      6\n",
       "0:6      5\n",
       "6:2      4\n",
       "7:0      4\n",
       "6:3      4\n",
       "4:4      4\n",
       "8:0      3\n",
       "5:4      2\n",
       "7:2      2\n",
       "3:6      2\n",
       "7:1      2\n",
       "3:5      2\n",
       "9:0      2\n",
       "5:5      1\n",
       "7:3      1\n",
       "4:5      1\n",
       "1:7      1\n",
       "8:2      1\n",
       "2:6      1\n",
       "0:9      1\n",
       "0:7      1\n",
       "Name: score, dtype: int64"
      ]
     },
     "execution_count": 733,
     "metadata": {},
     "output_type": "execute_result"
    }
   ],
   "source": [
    "match_general_info['score'].value_counts(dropna=False)"
   ]
  },
  {
   "cell_type": "markdown",
   "metadata": {},
   "source": [
    "##### (2) Null value check"
   ]
  },
  {
   "cell_type": "code",
   "execution_count": 734,
   "metadata": {},
   "outputs": [
    {
     "data": {
      "text/plain": [
       "day           0\n",
       "date          0\n",
       "starttime     0\n",
       "stadium       0\n",
       "attendance    0\n",
       "referee       0\n",
       "score         0\n",
       "home_score    0\n",
       "away_score    0\n",
       "dtype: int64"
      ]
     },
     "execution_count": 734,
     "metadata": {},
     "output_type": "execute_result"
    }
   ],
   "source": [
    "match_general_info.apply(lambda x: x.isnull().sum())"
   ]
  },
  {
   "cell_type": "code",
   "execution_count": null,
   "metadata": {},
   "outputs": [],
   "source": []
  },
  {
   "cell_type": "code",
   "execution_count": null,
   "metadata": {},
   "outputs": [],
   "source": []
  },
  {
   "cell_type": "code",
   "execution_count": 735,
   "metadata": {},
   "outputs": [
    {
     "data": {
      "text/html": [
       "<div>\n",
       "<style scoped>\n",
       "    .dataframe tbody tr th:only-of-type {\n",
       "        vertical-align: middle;\n",
       "    }\n",
       "\n",
       "    .dataframe tbody tr th {\n",
       "        vertical-align: top;\n",
       "    }\n",
       "\n",
       "    .dataframe thead th {\n",
       "        text-align: right;\n",
       "    }\n",
       "</style>\n",
       "<table border=\"1\" class=\"dataframe\">\n",
       "  <thead>\n",
       "    <tr style=\"text-align: right;\">\n",
       "      <th></th>\n",
       "      <th>home_score</th>\n",
       "      <th>away_score</th>\n",
       "    </tr>\n",
       "  </thead>\n",
       "  <tbody>\n",
       "    <tr>\n",
       "      <th>0</th>\n",
       "      <td>1148</td>\n",
       "      <td>1628.0</td>\n",
       "    </tr>\n",
       "    <tr>\n",
       "      <th>1</th>\n",
       "      <td>1605</td>\n",
       "      <td>1642.0</td>\n",
       "    </tr>\n",
       "    <tr>\n",
       "      <th>2</th>\n",
       "      <td>1202</td>\n",
       "      <td>1006.0</td>\n",
       "    </tr>\n",
       "    <tr>\n",
       "      <th>3</th>\n",
       "      <td>628</td>\n",
       "      <td>481.0</td>\n",
       "    </tr>\n",
       "    <tr>\n",
       "      <th>4</th>\n",
       "      <td>253</td>\n",
       "      <td>151.0</td>\n",
       "    </tr>\n",
       "    <tr>\n",
       "      <th>5</th>\n",
       "      <td>93</td>\n",
       "      <td>50.0</td>\n",
       "    </tr>\n",
       "    <tr>\n",
       "      <th>6</th>\n",
       "      <td>31</td>\n",
       "      <td>14.0</td>\n",
       "    </tr>\n",
       "    <tr>\n",
       "      <th>7</th>\n",
       "      <td>9</td>\n",
       "      <td>2.0</td>\n",
       "    </tr>\n",
       "    <tr>\n",
       "      <th>8</th>\n",
       "      <td>4</td>\n",
       "      <td>NaN</td>\n",
       "    </tr>\n",
       "    <tr>\n",
       "      <th>9</th>\n",
       "      <td>2</td>\n",
       "      <td>1.0</td>\n",
       "    </tr>\n",
       "  </tbody>\n",
       "</table>\n",
       "</div>"
      ],
      "text/plain": [
       "   home_score  away_score\n",
       "0        1148      1628.0\n",
       "1        1605      1642.0\n",
       "2        1202      1006.0\n",
       "3         628       481.0\n",
       "4         253       151.0\n",
       "5          93        50.0\n",
       "6          31        14.0\n",
       "7           9         2.0\n",
       "8           4         NaN\n",
       "9           2         1.0"
      ]
     },
     "execution_count": 735,
     "metadata": {},
     "output_type": "execute_result"
    }
   ],
   "source": [
    "match_general_info[['home_score', 'away_score']].apply(pd.Series.value_counts)"
   ]
  },
  {
   "cell_type": "code",
   "execution_count": 736,
   "metadata": {},
   "outputs": [
    {
     "data": {
      "text/html": [
       "<div>\n",
       "<style scoped>\n",
       "    .dataframe tbody tr th:only-of-type {\n",
       "        vertical-align: middle;\n",
       "    }\n",
       "\n",
       "    .dataframe tbody tr th {\n",
       "        vertical-align: top;\n",
       "    }\n",
       "\n",
       "    .dataframe thead th {\n",
       "        text-align: right;\n",
       "    }\n",
       "</style>\n",
       "<table border=\"1\" class=\"dataframe\">\n",
       "  <thead>\n",
       "    <tr style=\"text-align: right;\">\n",
       "      <th></th>\n",
       "      <th>home_score</th>\n",
       "      <th>away_score</th>\n",
       "    </tr>\n",
       "  </thead>\n",
       "  <tbody>\n",
       "    <tr>\n",
       "      <th>count</th>\n",
       "      <td>4975.000000</td>\n",
       "      <td>4975.000000</td>\n",
       "    </tr>\n",
       "    <tr>\n",
       "      <th>mean</th>\n",
       "      <td>1.541508</td>\n",
       "      <td>1.217688</td>\n",
       "    </tr>\n",
       "    <tr>\n",
       "      <th>std</th>\n",
       "      <td>1.314236</td>\n",
       "      <td>1.183525</td>\n",
       "    </tr>\n",
       "    <tr>\n",
       "      <th>min</th>\n",
       "      <td>0.000000</td>\n",
       "      <td>0.000000</td>\n",
       "    </tr>\n",
       "    <tr>\n",
       "      <th>25%</th>\n",
       "      <td>1.000000</td>\n",
       "      <td>0.000000</td>\n",
       "    </tr>\n",
       "    <tr>\n",
       "      <th>50%</th>\n",
       "      <td>1.000000</td>\n",
       "      <td>1.000000</td>\n",
       "    </tr>\n",
       "    <tr>\n",
       "      <th>75%</th>\n",
       "      <td>2.000000</td>\n",
       "      <td>2.000000</td>\n",
       "    </tr>\n",
       "    <tr>\n",
       "      <th>max</th>\n",
       "      <td>9.000000</td>\n",
       "      <td>9.000000</td>\n",
       "    </tr>\n",
       "  </tbody>\n",
       "</table>\n",
       "</div>"
      ],
      "text/plain": [
       "        home_score   away_score\n",
       "count  4975.000000  4975.000000\n",
       "mean      1.541508     1.217688\n",
       "std       1.314236     1.183525\n",
       "min       0.000000     0.000000\n",
       "25%       1.000000     0.000000\n",
       "50%       1.000000     1.000000\n",
       "75%       2.000000     2.000000\n",
       "max       9.000000     9.000000"
      ]
     },
     "execution_count": 736,
     "metadata": {},
     "output_type": "execute_result"
    }
   ],
   "source": [
    "match_general_info.describe()"
   ]
  },
  {
   "cell_type": "code",
   "execution_count": null,
   "metadata": {},
   "outputs": [],
   "source": []
  },
  {
   "cell_type": "code",
   "execution_count": null,
   "metadata": {},
   "outputs": [],
   "source": []
  },
  {
   "cell_type": "code",
   "execution_count": 737,
   "metadata": {},
   "outputs": [],
   "source": [
    "a = pd.Series(['a', 'b', None])"
   ]
  },
  {
   "cell_type": "code",
   "execution_count": 738,
   "metadata": {},
   "outputs": [
    {
     "data": {
      "text/plain": [
       "a       1\n",
       "b       1\n",
       "None    1\n",
       "dtype: int64"
      ]
     },
     "execution_count": 738,
     "metadata": {},
     "output_type": "execute_result"
    }
   ],
   "source": [
    "a.value_counts(dropna=False)"
   ]
  }
 ],
 "metadata": {
  "kernelspec": {
   "display_name": "base",
   "language": "python",
   "name": "python3"
  },
  "language_info": {
   "codemirror_mode": {
    "name": "ipython",
    "version": 3
   },
   "file_extension": ".py",
   "mimetype": "text/x-python",
   "name": "python",
   "nbconvert_exporter": "python",
   "pygments_lexer": "ipython3",
   "version": "3.9.12"
  },
  "orig_nbformat": 4
 },
 "nbformat": 4,
 "nbformat_minor": 2
}
